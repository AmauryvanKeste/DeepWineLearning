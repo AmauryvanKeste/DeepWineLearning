{
 "cells": [
  {
   "cell_type": "code",
   "execution_count": 1,
   "id": "282e0358",
   "metadata": {},
   "outputs": [
    {
     "name": "stderr",
     "output_type": "stream",
     "text": [
      "Using TensorFlow backend.\n"
     ]
    }
   ],
   "source": [
    "import numpy as np\n",
    "import pandas as pd\n",
    "import tensorflow as tf\n",
    "from tensorflow import keras\n",
    "from tensorflow.keras import Sequential\n",
    "from tensorflow.keras.layers import Conv2D, Flatten, Dense\n",
    "from keras.optimizers import Adam \n",
    "from keras.utils import to_categorical\n",
    "import matplotlib.pyplot as plt\n",
    "from sklearn.model_selection import train_test_split\n",
    "import keras_tuner as kt\n",
    "\n",
    "%matplotlib inline"
   ]
  },
  {
   "cell_type": "code",
   "execution_count": 2,
   "id": "beb2fbb5",
   "metadata": {},
   "outputs": [],
   "source": [
    "filepath = \"datasets/wine.csv\"\n",
    "df = pd.read_csv(filepath)\n",
    "df = df.drop(\"index\", axis = 1)\n",
    "df = df.sample(frac=1, random_state = 42, ignore_index=True)"
   ]
  },
  {
   "cell_type": "code",
   "execution_count": 3,
   "id": "a380b8ca",
   "metadata": {},
   "outputs": [],
   "source": [
    "X = df.drop(\"quality\", axis=1)\n",
    "y = df[\"quality\"]"
   ]
  },
  {
   "cell_type": "code",
   "execution_count": 4,
   "id": "ba772a90",
   "metadata": {},
   "outputs": [
    {
     "data": {
      "text/plain": [
       "array([8, 5, 7, 6, 4, 3, 9], dtype=int64)"
      ]
     },
     "execution_count": 4,
     "metadata": {},
     "output_type": "execute_result"
    }
   ],
   "source": [
    "pd.unique(y)"
   ]
  },
  {
   "cell_type": "code",
   "execution_count": 5,
   "id": "5a238e0a",
   "metadata": {},
   "outputs": [
    {
     "data": {
      "text/html": [
       "<div>\n",
       "<style scoped>\n",
       "    .dataframe tbody tr th:only-of-type {\n",
       "        vertical-align: middle;\n",
       "    }\n",
       "\n",
       "    .dataframe tbody tr th {\n",
       "        vertical-align: top;\n",
       "    }\n",
       "\n",
       "    .dataframe thead th {\n",
       "        text-align: right;\n",
       "    }\n",
       "</style>\n",
       "<table border=\"1\" class=\"dataframe\">\n",
       "  <thead>\n",
       "    <tr style=\"text-align: right;\">\n",
       "      <th></th>\n",
       "      <th>3</th>\n",
       "      <th>4</th>\n",
       "      <th>5</th>\n",
       "      <th>6</th>\n",
       "      <th>7</th>\n",
       "      <th>8</th>\n",
       "      <th>9</th>\n",
       "    </tr>\n",
       "  </thead>\n",
       "  <tbody>\n",
       "    <tr>\n",
       "      <th>0</th>\n",
       "      <td>0</td>\n",
       "      <td>0</td>\n",
       "      <td>0</td>\n",
       "      <td>0</td>\n",
       "      <td>0</td>\n",
       "      <td>1</td>\n",
       "      <td>0</td>\n",
       "    </tr>\n",
       "    <tr>\n",
       "      <th>1</th>\n",
       "      <td>0</td>\n",
       "      <td>0</td>\n",
       "      <td>1</td>\n",
       "      <td>0</td>\n",
       "      <td>0</td>\n",
       "      <td>0</td>\n",
       "      <td>0</td>\n",
       "    </tr>\n",
       "    <tr>\n",
       "      <th>2</th>\n",
       "      <td>0</td>\n",
       "      <td>0</td>\n",
       "      <td>0</td>\n",
       "      <td>0</td>\n",
       "      <td>1</td>\n",
       "      <td>0</td>\n",
       "      <td>0</td>\n",
       "    </tr>\n",
       "    <tr>\n",
       "      <th>3</th>\n",
       "      <td>0</td>\n",
       "      <td>0</td>\n",
       "      <td>0</td>\n",
       "      <td>1</td>\n",
       "      <td>0</td>\n",
       "      <td>0</td>\n",
       "      <td>0</td>\n",
       "    </tr>\n",
       "    <tr>\n",
       "      <th>4</th>\n",
       "      <td>0</td>\n",
       "      <td>0</td>\n",
       "      <td>0</td>\n",
       "      <td>1</td>\n",
       "      <td>0</td>\n",
       "      <td>0</td>\n",
       "      <td>0</td>\n",
       "    </tr>\n",
       "    <tr>\n",
       "      <th>...</th>\n",
       "      <td>...</td>\n",
       "      <td>...</td>\n",
       "      <td>...</td>\n",
       "      <td>...</td>\n",
       "      <td>...</td>\n",
       "      <td>...</td>\n",
       "      <td>...</td>\n",
       "    </tr>\n",
       "    <tr>\n",
       "      <th>6492</th>\n",
       "      <td>0</td>\n",
       "      <td>0</td>\n",
       "      <td>1</td>\n",
       "      <td>0</td>\n",
       "      <td>0</td>\n",
       "      <td>0</td>\n",
       "      <td>0</td>\n",
       "    </tr>\n",
       "    <tr>\n",
       "      <th>6493</th>\n",
       "      <td>0</td>\n",
       "      <td>0</td>\n",
       "      <td>0</td>\n",
       "      <td>0</td>\n",
       "      <td>1</td>\n",
       "      <td>0</td>\n",
       "      <td>0</td>\n",
       "    </tr>\n",
       "    <tr>\n",
       "      <th>6494</th>\n",
       "      <td>0</td>\n",
       "      <td>0</td>\n",
       "      <td>1</td>\n",
       "      <td>0</td>\n",
       "      <td>0</td>\n",
       "      <td>0</td>\n",
       "      <td>0</td>\n",
       "    </tr>\n",
       "    <tr>\n",
       "      <th>6495</th>\n",
       "      <td>0</td>\n",
       "      <td>0</td>\n",
       "      <td>1</td>\n",
       "      <td>0</td>\n",
       "      <td>0</td>\n",
       "      <td>0</td>\n",
       "      <td>0</td>\n",
       "    </tr>\n",
       "    <tr>\n",
       "      <th>6496</th>\n",
       "      <td>0</td>\n",
       "      <td>0</td>\n",
       "      <td>1</td>\n",
       "      <td>0</td>\n",
       "      <td>0</td>\n",
       "      <td>0</td>\n",
       "      <td>0</td>\n",
       "    </tr>\n",
       "  </tbody>\n",
       "</table>\n",
       "<p>6497 rows × 7 columns</p>\n",
       "</div>"
      ],
      "text/plain": [
       "      3  4  5  6  7  8  9\n",
       "0     0  0  0  0  0  1  0\n",
       "1     0  0  1  0  0  0  0\n",
       "2     0  0  0  0  1  0  0\n",
       "3     0  0  0  1  0  0  0\n",
       "4     0  0  0  1  0  0  0\n",
       "...  .. .. .. .. .. .. ..\n",
       "6492  0  0  1  0  0  0  0\n",
       "6493  0  0  0  0  1  0  0\n",
       "6494  0  0  1  0  0  0  0\n",
       "6495  0  0  1  0  0  0  0\n",
       "6496  0  0  1  0  0  0  0\n",
       "\n",
       "[6497 rows x 7 columns]"
      ]
     },
     "execution_count": 5,
     "metadata": {},
     "output_type": "execute_result"
    }
   ],
   "source": [
    "y = pd.get_dummies(y)\n",
    "y"
   ]
  },
  {
   "cell_type": "code",
   "execution_count": 6,
   "id": "f8cb6da7",
   "metadata": {},
   "outputs": [],
   "source": [
    "def build_model(hp):\n",
    "    model = keras.Sequential()\n",
    "    for i in range(hp.Int('num_layers', 2, 20)):\n",
    "        model.add(Dense(units=hp.Int('units_' + str(i),\n",
    "                                            min_value=10,\n",
    "                                            max_value=100,\n",
    "                                            step=4),\n",
    "                               activation='sigmoid'))\n",
    "    model.add(Dense(7, activation='softmax'))\n",
    "    model.compile(\n",
    "        optimizer=keras.optimizers.Adam(\n",
    "            hp.Choice('learning_rate', [1e-2, 1e-3])),\n",
    "        loss='categorical_crossentropy',\n",
    "        metrics=['accuracy'])\n",
    "    return model"
   ]
  },
  {
   "cell_type": "code",
   "execution_count": 7,
   "id": "e3fbf687",
   "metadata": {},
   "outputs": [],
   "source": [
    "directory = r'C:\\Users\\Amaury\\Documents'"
   ]
  },
  {
   "cell_type": "code",
   "execution_count": 8,
   "id": "9272a257",
   "metadata": {},
   "outputs": [
    {
     "name": "stdout",
     "output_type": "stream",
     "text": [
      "INFO:tensorflow:Reloading Oracle from existing project C:\\Users\\Amaury\\Documents\\Wine\\oracle.json\n",
      "INFO:tensorflow:Reloading Tuner from C:\\Users\\Amaury\\Documents\\Wine\\tuner0.json\n"
     ]
    }
   ],
   "source": [
    "tuner = kt.RandomSearch(\n",
    "    build_model,\n",
    "    objective='val_accuracy',\n",
    "    max_trials=5,\n",
    "    executions_per_trial=3,\n",
    "    directory=directory,\n",
    "    project_name='Wine')"
   ]
  },
  {
   "cell_type": "code",
   "execution_count": 12,
   "id": "d77b48ef",
   "metadata": {},
   "outputs": [
    {
     "name": "stdout",
     "output_type": "stream",
     "text": [
      "(4547, 11)\n",
      "(1950, 11)\n",
      "(4547, 7)\n",
      "(1950, 7)\n"
     ]
    }
   ],
   "source": [
    "X_train, X_test, y_train, y_test = train_test_split(X, y, test_size=0.3, random_state=0)\n",
    "print(X_train.shape)\n",
    "print(X_test.shape)\n",
    "print(y_train.shape)\n",
    "print(y_test.shape)"
   ]
  },
  {
   "cell_type": "code",
   "execution_count": 10,
   "id": "aa6bd7d0",
   "metadata": {},
   "outputs": [
    {
     "name": "stdout",
     "output_type": "stream",
     "text": [
      "INFO:tensorflow:Oracle triggered exit\n"
     ]
    }
   ],
   "source": [
    "tuner.search(X_train, y_train,\n",
    "             epochs=5,\n",
    "             validation_data=(X_test, y_test))"
   ]
  },
  {
   "cell_type": "code",
   "execution_count": 11,
   "id": "aa479030",
   "metadata": {},
   "outputs": [
    {
     "name": "stdout",
     "output_type": "stream",
     "text": [
      "Results summary\n",
      "Results in C:\\Users\\Amaury\\Documents\\Wine\n",
      "Showing 10 best trials\n",
      "Objective(name='val_accuracy', direction='max')\n",
      "Trial summary\n",
      "Hyperparameters:\n",
      "num_layers: 10\n",
      "units_0: 26\n",
      "units_1: 90\n",
      "learning_rate: 0.01\n",
      "units_2: 14\n",
      "units_3: 14\n",
      "units_4: 18\n",
      "units_5: 34\n",
      "units_6: 38\n",
      "units_7: 94\n",
      "units_8: 14\n",
      "units_9: 98\n",
      "units_10: 14\n",
      "units_11: 94\n",
      "units_12: 58\n",
      "units_13: 26\n",
      "units_14: 62\n",
      "units_15: 34\n",
      "Score: 0.4435897469520569\n",
      "Trial summary\n",
      "Hyperparameters:\n",
      "num_layers: 5\n",
      "units_0: 18\n",
      "units_1: 70\n",
      "learning_rate: 0.001\n",
      "units_2: 78\n",
      "units_3: 30\n",
      "units_4: 78\n",
      "units_5: 78\n",
      "units_6: 26\n",
      "units_7: 18\n",
      "units_8: 82\n",
      "units_9: 34\n",
      "units_10: 50\n",
      "units_11: 26\n",
      "units_12: 82\n",
      "units_13: 78\n",
      "units_14: 54\n",
      "units_15: 82\n",
      "Score: 0.4435897469520569\n",
      "Trial summary\n",
      "Hyperparameters:\n",
      "num_layers: 7\n",
      "units_0: 58\n",
      "units_1: 14\n",
      "learning_rate: 0.01\n",
      "units_2: 34\n",
      "units_3: 78\n",
      "units_4: 62\n",
      "units_5: 54\n",
      "units_6: 50\n",
      "units_7: 58\n",
      "units_8: 22\n",
      "units_9: 70\n",
      "units_10: 66\n",
      "units_11: 38\n",
      "units_12: 38\n",
      "units_13: 54\n",
      "units_14: 14\n",
      "units_15: 22\n",
      "Score: 0.4435897469520569\n",
      "Trial summary\n",
      "Hyperparameters:\n",
      "num_layers: 14\n",
      "units_0: 74\n",
      "units_1: 94\n",
      "learning_rate: 0.001\n",
      "units_2: 10\n",
      "units_3: 10\n",
      "units_4: 10\n",
      "units_5: 10\n",
      "units_6: 10\n",
      "units_7: 10\n",
      "units_8: 10\n",
      "units_9: 10\n",
      "units_10: 10\n",
      "units_11: 10\n",
      "units_12: 10\n",
      "units_13: 10\n",
      "Score: 0.4435897469520569\n",
      "Trial summary\n",
      "Hyperparameters:\n",
      "num_layers: 16\n",
      "units_0: 10\n",
      "units_1: 58\n",
      "learning_rate: 0.01\n",
      "units_2: 62\n",
      "units_3: 94\n",
      "units_4: 74\n",
      "units_5: 22\n",
      "units_6: 14\n",
      "units_7: 74\n",
      "units_8: 54\n",
      "units_9: 58\n",
      "units_10: 38\n",
      "units_11: 90\n",
      "units_12: 30\n",
      "units_13: 62\n",
      "units_14: 10\n",
      "units_15: 10\n",
      "Score: 0.4435897469520569\n"
     ]
    }
   ],
   "source": [
    "tuner.results_summary()"
   ]
  },
  {
   "cell_type": "code",
   "execution_count": null,
   "id": "f8d36d01",
   "metadata": {},
   "outputs": [],
   "source": []
  }
 ],
 "metadata": {
  "kernelspec": {
   "display_name": "tf_2_wine",
   "language": "python",
   "name": "tf_2_wine"
  },
  "language_info": {
   "codemirror_mode": {
    "name": "ipython",
    "version": 3
   },
   "file_extension": ".py",
   "mimetype": "text/x-python",
   "name": "python",
   "nbconvert_exporter": "python",
   "pygments_lexer": "ipython3",
   "version": "3.7.11"
  }
 },
 "nbformat": 4,
 "nbformat_minor": 5
}
