{
 "cells": [
  {
   "cell_type": "code",
   "execution_count": 23,
   "id": "282e0358",
   "metadata": {},
   "outputs": [],
   "source": [
    "import numpy as np\n",
    "import pandas as pd\n",
    "import tensorflow as tf\n",
    "from tensorflow import keras\n",
    "from tensorflow.keras import Sequential\n",
    "from tensorflow.keras.layers import Conv2D, Flatten, Dense\n",
    "from keras.optimizers import Adam \n",
    "from keras.utils import to_categorical\n",
    "import matplotlib.pyplot as plt\n",
    "from sklearn.model_selection import train_test_split\n",
    "from sklearn.preprocessing import StandardScaler\n",
    "from sklearn.metrics import confusion_matrix\n",
    "from sklearn.metrics import plot_confusion_matrix\n",
    "from sklearn.metrics import ConfusionMatrixDisplay\n",
    "from collections import Counter\n",
    "from imblearn.over_sampling import SMOTE\n",
    "from numpy import where\n",
    "from imblearn.under_sampling import RandomUnderSampler\n",
    "from imblearn.pipeline import Pipeline\n",
    "%matplotlib inline"
   ]
  },
  {
   "cell_type": "code",
   "execution_count": 24,
   "id": "beb2fbb5",
   "metadata": {},
   "outputs": [],
   "source": [
    "filepath = \"datasets/wine.csv\"\n",
    "df = pd.read_csv(filepath)\n",
    "df = df.drop(\"index\", axis = 1)\n",
    "df = df.sample(frac=1, random_state = 42, ignore_index=True)"
   ]
  },
  {
   "cell_type": "code",
   "execution_count": 25,
   "id": "a380b8ca",
   "metadata": {},
   "outputs": [],
   "source": [
    "X = df.drop(\"quality\", axis=1)\n",
    "y = df[\"quality\"]"
   ]
  },
  {
   "cell_type": "code",
   "execution_count": 26,
   "id": "87c0c181",
   "metadata": {},
   "outputs": [
    {
     "name": "stdout",
     "output_type": "stream",
     "text": [
      "Counter({6: 2836, 5: 2138, 7: 1079, 4: 216, 8: 193, 3: 30, 9: 5})\n",
      "Counter({8: 2836, 5: 2836, 7: 2836, 6: 2836, 4: 2836, 3: 2836, 9: 2836})\n"
     ]
    }
   ],
   "source": [
    "# summarize class distribution\n",
    "counter = Counter(y)\n",
    "print(counter)\n",
    "# transform the dataset\n",
    "oversample = SMOTE(k_neighbors=4)\n",
    "X, y = oversample.fit_resample(X, y)\n",
    "# summarize the new class distribution\n",
    "counter = Counter(y)\n",
    "print(counter)\n"
   ]
  },
  {
   "cell_type": "code",
   "execution_count": null,
   "id": "88e9fb06",
   "metadata": {},
   "outputs": [],
   "source": []
  },
  {
   "cell_type": "code",
   "execution_count": null,
   "id": "fe978b8f",
   "metadata": {},
   "outputs": [],
   "source": []
  },
  {
   "cell_type": "code",
   "execution_count": null,
   "id": "e6de0cbc",
   "metadata": {},
   "outputs": [],
   "source": []
  },
  {
   "cell_type": "code",
   "execution_count": null,
   "id": "b35c8733",
   "metadata": {},
   "outputs": [],
   "source": []
  },
  {
   "cell_type": "code",
   "execution_count": null,
   "id": "79515fd7",
   "metadata": {},
   "outputs": [],
   "source": []
  },
  {
   "cell_type": "code",
   "execution_count": null,
   "id": "ef29d1f8",
   "metadata": {},
   "outputs": [],
   "source": []
  },
  {
   "cell_type": "code",
   "execution_count": 4,
   "id": "d9de8b7f",
   "metadata": {},
   "outputs": [
    {
     "data": {
      "text/plain": [
       "array([8, 5, 7, 6, 4, 3, 9], dtype=int64)"
      ]
     },
     "execution_count": 4,
     "metadata": {},
     "output_type": "execute_result"
    }
   ],
   "source": [
    "pd.unique(y)"
   ]
  },
  {
   "cell_type": "code",
   "execution_count": 28,
   "id": "9b36a9b9",
   "metadata": {},
   "outputs": [
    {
     "data": {
      "text/html": [
       "<div>\n",
       "<style scoped>\n",
       "    .dataframe tbody tr th:only-of-type {\n",
       "        vertical-align: middle;\n",
       "    }\n",
       "\n",
       "    .dataframe tbody tr th {\n",
       "        vertical-align: top;\n",
       "    }\n",
       "\n",
       "    .dataframe thead th {\n",
       "        text-align: right;\n",
       "    }\n",
       "</style>\n",
       "<table border=\"1\" class=\"dataframe\">\n",
       "  <thead>\n",
       "    <tr style=\"text-align: right;\">\n",
       "      <th></th>\n",
       "      <th>3</th>\n",
       "      <th>4</th>\n",
       "      <th>5</th>\n",
       "      <th>6</th>\n",
       "      <th>7</th>\n",
       "      <th>8</th>\n",
       "      <th>9</th>\n",
       "    </tr>\n",
       "  </thead>\n",
       "  <tbody>\n",
       "    <tr>\n",
       "      <th>0</th>\n",
       "      <td>0</td>\n",
       "      <td>0</td>\n",
       "      <td>0</td>\n",
       "      <td>0</td>\n",
       "      <td>0</td>\n",
       "      <td>1</td>\n",
       "      <td>0</td>\n",
       "    </tr>\n",
       "    <tr>\n",
       "      <th>1</th>\n",
       "      <td>0</td>\n",
       "      <td>0</td>\n",
       "      <td>1</td>\n",
       "      <td>0</td>\n",
       "      <td>0</td>\n",
       "      <td>0</td>\n",
       "      <td>0</td>\n",
       "    </tr>\n",
       "    <tr>\n",
       "      <th>2</th>\n",
       "      <td>0</td>\n",
       "      <td>0</td>\n",
       "      <td>0</td>\n",
       "      <td>0</td>\n",
       "      <td>1</td>\n",
       "      <td>0</td>\n",
       "      <td>0</td>\n",
       "    </tr>\n",
       "    <tr>\n",
       "      <th>3</th>\n",
       "      <td>0</td>\n",
       "      <td>0</td>\n",
       "      <td>0</td>\n",
       "      <td>1</td>\n",
       "      <td>0</td>\n",
       "      <td>0</td>\n",
       "      <td>0</td>\n",
       "    </tr>\n",
       "    <tr>\n",
       "      <th>4</th>\n",
       "      <td>0</td>\n",
       "      <td>0</td>\n",
       "      <td>0</td>\n",
       "      <td>1</td>\n",
       "      <td>0</td>\n",
       "      <td>0</td>\n",
       "      <td>0</td>\n",
       "    </tr>\n",
       "    <tr>\n",
       "      <th>...</th>\n",
       "      <td>...</td>\n",
       "      <td>...</td>\n",
       "      <td>...</td>\n",
       "      <td>...</td>\n",
       "      <td>...</td>\n",
       "      <td>...</td>\n",
       "      <td>...</td>\n",
       "    </tr>\n",
       "    <tr>\n",
       "      <th>19847</th>\n",
       "      <td>0</td>\n",
       "      <td>0</td>\n",
       "      <td>0</td>\n",
       "      <td>0</td>\n",
       "      <td>0</td>\n",
       "      <td>0</td>\n",
       "      <td>1</td>\n",
       "    </tr>\n",
       "    <tr>\n",
       "      <th>19848</th>\n",
       "      <td>0</td>\n",
       "      <td>0</td>\n",
       "      <td>0</td>\n",
       "      <td>0</td>\n",
       "      <td>0</td>\n",
       "      <td>0</td>\n",
       "      <td>1</td>\n",
       "    </tr>\n",
       "    <tr>\n",
       "      <th>19849</th>\n",
       "      <td>0</td>\n",
       "      <td>0</td>\n",
       "      <td>0</td>\n",
       "      <td>0</td>\n",
       "      <td>0</td>\n",
       "      <td>0</td>\n",
       "      <td>1</td>\n",
       "    </tr>\n",
       "    <tr>\n",
       "      <th>19850</th>\n",
       "      <td>0</td>\n",
       "      <td>0</td>\n",
       "      <td>0</td>\n",
       "      <td>0</td>\n",
       "      <td>0</td>\n",
       "      <td>0</td>\n",
       "      <td>1</td>\n",
       "    </tr>\n",
       "    <tr>\n",
       "      <th>19851</th>\n",
       "      <td>0</td>\n",
       "      <td>0</td>\n",
       "      <td>0</td>\n",
       "      <td>0</td>\n",
       "      <td>0</td>\n",
       "      <td>0</td>\n",
       "      <td>1</td>\n",
       "    </tr>\n",
       "  </tbody>\n",
       "</table>\n",
       "<p>19852 rows × 7 columns</p>\n",
       "</div>"
      ],
      "text/plain": [
       "       3  4  5  6  7  8  9\n",
       "0      0  0  0  0  0  1  0\n",
       "1      0  0  1  0  0  0  0\n",
       "2      0  0  0  0  1  0  0\n",
       "3      0  0  0  1  0  0  0\n",
       "4      0  0  0  1  0  0  0\n",
       "...   .. .. .. .. .. .. ..\n",
       "19847  0  0  0  0  0  0  1\n",
       "19848  0  0  0  0  0  0  1\n",
       "19849  0  0  0  0  0  0  1\n",
       "19850  0  0  0  0  0  0  1\n",
       "19851  0  0  0  0  0  0  1\n",
       "\n",
       "[19852 rows x 7 columns]"
      ]
     },
     "execution_count": 28,
     "metadata": {},
     "output_type": "execute_result"
    }
   ],
   "source": [
    "y = pd.get_dummies(y)\n",
    "y"
   ]
  },
  {
   "cell_type": "code",
   "execution_count": 29,
   "id": "b071be9b",
   "metadata": {},
   "outputs": [
    {
     "name": "stdout",
     "output_type": "stream",
     "text": [
      "(13896, 11)\n",
      "(5956, 11)\n",
      "(13896, 7)\n",
      "(5956, 7)\n"
     ]
    }
   ],
   "source": [
    "X_train, X_test, y_train, y_test = train_test_split(X, y, test_size = 0.3, random_state = 10)\n",
    "print(X_train.shape)\n",
    "print(X_test.shape)\n",
    "print(y_train.shape)\n",
    "print(y_test.shape)"
   ]
  },
  {
   "cell_type": "code",
   "execution_count": 30,
   "id": "7a05fca2",
   "metadata": {},
   "outputs": [
    {
     "name": "stdout",
     "output_type": "stream",
     "text": [
      "(13896, 11)\n",
      "(5956, 11)\n"
     ]
    }
   ],
   "source": [
    "X_train = tf.keras.utils.normalize(X_train, axis=1)\n",
    "X_test = tf.keras.utils.normalize(X_test, axis=1)\n",
    "print(X_train.shape)\n",
    "print(X_test.shape)"
   ]
  },
  {
   "cell_type": "code",
   "execution_count": 31,
   "id": "1aff2edc",
   "metadata": {},
   "outputs": [],
   "source": [
    "input_dim = X_train.shape[1]"
   ]
  },
  {
   "cell_type": "code",
   "execution_count": 32,
   "id": "2446dc91",
   "metadata": {},
   "outputs": [
    {
     "data": {
      "text/plain": [
       "7"
      ]
     },
     "execution_count": 32,
     "metadata": {},
     "output_type": "execute_result"
    }
   ],
   "source": [
    "class_num = y.shape[1]\n",
    "class_num"
   ]
  },
  {
   "cell_type": "code",
   "execution_count": 33,
   "id": "aa8ae48b",
   "metadata": {},
   "outputs": [],
   "source": [
    "model = Sequential()\n",
    "model.add(Dense(units=35, activation='relu'))\n",
    "model.add(Dense(units=35, activation='relu'))\n",
    "model.add(Dense(units=class_num,activation='softmax'))"
   ]
  },
  {
   "cell_type": "code",
   "execution_count": 34,
   "id": "7f1fd7c8",
   "metadata": {},
   "outputs": [],
   "source": [
    "model.compile(loss='categorical_crossentropy', optimizer='adam',               \n",
    "              metrics=['accuracy'])"
   ]
  },
  {
   "cell_type": "code",
   "execution_count": 35,
   "id": "c30b70be",
   "metadata": {},
   "outputs": [
    {
     "name": "stdout",
     "output_type": "stream",
     "text": [
      "(13896, 11)\n",
      "(5956, 11)\n",
      "(13896, 7)\n",
      "(5956, 7)\n"
     ]
    }
   ],
   "source": [
    "print(X_train.shape)\n",
    "print(X_test.shape)\n",
    "print(y_train.shape)\n",
    "print(y_test.shape)"
   ]
  },
  {
   "cell_type": "code",
   "execution_count": 36,
   "id": "ede985f5",
   "metadata": {},
   "outputs": [
    {
     "name": "stdout",
     "output_type": "stream",
     "text": [
      "Epoch 1/100\n",
      "WARNING:tensorflow:Layer dense is casting an input tensor from dtype float64 to the layer's dtype of float32, which is new behavior in TensorFlow 2.  The layer has dtype float32 because its dtype defaults to floatx.\n",
      "\n",
      "If you intended to run this layer in float32, you can safely ignore this warning. If in doubt, this warning is likely only an issue if you are porting a TensorFlow 1.X model to TensorFlow 2.\n",
      "\n",
      "To change all layers to have dtype float64 by default, call `tf.keras.backend.set_floatx('float64')`. To change just this layer, pass dtype='float64' to the layer constructor. If you are the author of this layer, you can disable autocasting by passing autocast=False to the base Layer constructor.\n",
      "\n",
      "435/435 - 1s - loss: 1.9079 - accuracy: 0.2042 - val_loss: 1.8607 - val_accuracy: 0.2176\n",
      "Epoch 2/100\n",
      "435/435 - 1s - loss: 1.8300 - accuracy: 0.2548 - val_loss: 1.7883 - val_accuracy: 0.2738\n",
      "Epoch 3/100\n",
      "435/435 - 1s - loss: 1.7668 - accuracy: 0.2760 - val_loss: 1.7294 - val_accuracy: 0.2920\n",
      "Epoch 4/100\n",
      "435/435 - 1s - loss: 1.7062 - accuracy: 0.3073 - val_loss: 1.6754 - val_accuracy: 0.3291\n",
      "Epoch 5/100\n",
      "435/435 - 1s - loss: 1.6427 - accuracy: 0.3486 - val_loss: 1.6124 - val_accuracy: 0.3598\n",
      "Epoch 6/100\n",
      "435/435 - 1s - loss: 1.5922 - accuracy: 0.3674 - val_loss: 1.5697 - val_accuracy: 0.3857\n",
      "Epoch 7/100\n",
      "435/435 - 1s - loss: 1.5545 - accuracy: 0.3830 - val_loss: 1.5304 - val_accuracy: 0.3736\n",
      "Epoch 8/100\n",
      "435/435 - 1s - loss: 1.5260 - accuracy: 0.3868 - val_loss: 1.5046 - val_accuracy: 0.3929\n",
      "Epoch 9/100\n",
      "435/435 - 1s - loss: 1.5055 - accuracy: 0.3946 - val_loss: 1.4928 - val_accuracy: 0.3944\n",
      "Epoch 10/100\n",
      "435/435 - 1s - loss: 1.4848 - accuracy: 0.4039 - val_loss: 1.4729 - val_accuracy: 0.4040\n",
      "Epoch 11/100\n",
      "435/435 - 1s - loss: 1.4703 - accuracy: 0.4016 - val_loss: 1.4555 - val_accuracy: 0.4100\n",
      "Epoch 12/100\n",
      "435/435 - 1s - loss: 1.4534 - accuracy: 0.4107 - val_loss: 1.4426 - val_accuracy: 0.4342\n",
      "Epoch 13/100\n",
      "435/435 - 1s - loss: 1.4417 - accuracy: 0.4137 - val_loss: 1.4266 - val_accuracy: 0.4221\n",
      "Epoch 14/100\n",
      "435/435 - 1s - loss: 1.4286 - accuracy: 0.4126 - val_loss: 1.4146 - val_accuracy: 0.4209\n",
      "Epoch 15/100\n",
      "435/435 - 1s - loss: 1.4140 - accuracy: 0.4236 - val_loss: 1.4010 - val_accuracy: 0.4256\n",
      "Epoch 16/100\n",
      "435/435 - 1s - loss: 1.4016 - accuracy: 0.4239 - val_loss: 1.3889 - val_accuracy: 0.4372\n",
      "Epoch 17/100\n",
      "435/435 - 1s - loss: 1.3917 - accuracy: 0.4267 - val_loss: 1.3830 - val_accuracy: 0.4352\n",
      "Epoch 18/100\n",
      "435/435 - 1s - loss: 1.3765 - accuracy: 0.4345 - val_loss: 1.3662 - val_accuracy: 0.4416\n",
      "Epoch 19/100\n",
      "435/435 - 1s - loss: 1.3672 - accuracy: 0.4379 - val_loss: 1.3673 - val_accuracy: 0.4332\n",
      "Epoch 20/100\n",
      "435/435 - 1s - loss: 1.3561 - accuracy: 0.4409 - val_loss: 1.3486 - val_accuracy: 0.4453\n",
      "Epoch 21/100\n",
      "435/435 - 1s - loss: 1.3486 - accuracy: 0.4447 - val_loss: 1.3426 - val_accuracy: 0.4617\n",
      "Epoch 22/100\n",
      "435/435 - 1s - loss: 1.3350 - accuracy: 0.4509 - val_loss: 1.3311 - val_accuracy: 0.4580\n",
      "Epoch 23/100\n",
      "435/435 - 1s - loss: 1.3254 - accuracy: 0.4553 - val_loss: 1.3224 - val_accuracy: 0.4595\n",
      "Epoch 24/100\n",
      "435/435 - 1s - loss: 1.3204 - accuracy: 0.4571 - val_loss: 1.3285 - val_accuracy: 0.4521\n",
      "Epoch 25/100\n",
      "435/435 - 1s - loss: 1.3126 - accuracy: 0.4580 - val_loss: 1.3071 - val_accuracy: 0.4642\n",
      "Epoch 26/100\n",
      "435/435 - 1s - loss: 1.3044 - accuracy: 0.4600 - val_loss: 1.3064 - val_accuracy: 0.4646\n",
      "Epoch 27/100\n",
      "435/435 - 1s - loss: 1.2986 - accuracy: 0.4656 - val_loss: 1.3059 - val_accuracy: 0.4684\n",
      "Epoch 28/100\n",
      "435/435 - 1s - loss: 1.2932 - accuracy: 0.4708 - val_loss: 1.2880 - val_accuracy: 0.4654\n",
      "Epoch 29/100\n",
      "435/435 - 1s - loss: 1.2867 - accuracy: 0.4697 - val_loss: 1.2849 - val_accuracy: 0.4637\n",
      "Epoch 30/100\n",
      "435/435 - 1s - loss: 1.2777 - accuracy: 0.4737 - val_loss: 1.2814 - val_accuracy: 0.4715\n",
      "Epoch 31/100\n",
      "435/435 - 1s - loss: 1.2727 - accuracy: 0.4775 - val_loss: 1.2940 - val_accuracy: 0.4669\n",
      "Epoch 32/100\n",
      "435/435 - 1s - loss: 1.2681 - accuracy: 0.4787 - val_loss: 1.2677 - val_accuracy: 0.4802\n",
      "Epoch 33/100\n",
      "435/435 - 1s - loss: 1.2644 - accuracy: 0.4825 - val_loss: 1.2636 - val_accuracy: 0.4842\n",
      "Epoch 34/100\n",
      "435/435 - 1s - loss: 1.2566 - accuracy: 0.4833 - val_loss: 1.2803 - val_accuracy: 0.4787\n",
      "Epoch 35/100\n",
      "435/435 - 1s - loss: 1.2538 - accuracy: 0.4881 - val_loss: 1.2552 - val_accuracy: 0.4835\n",
      "Epoch 36/100\n",
      "435/435 - 1s - loss: 1.2485 - accuracy: 0.4885 - val_loss: 1.2486 - val_accuracy: 0.4909\n",
      "Epoch 37/100\n",
      "435/435 - 1s - loss: 1.2428 - accuracy: 0.4898 - val_loss: 1.2583 - val_accuracy: 0.4849\n",
      "Epoch 38/100\n",
      "435/435 - 1s - loss: 1.2413 - accuracy: 0.4941 - val_loss: 1.2529 - val_accuracy: 0.4914\n",
      "Epoch 39/100\n",
      "435/435 - 1s - loss: 1.2385 - accuracy: 0.4941 - val_loss: 1.2374 - val_accuracy: 0.4940\n",
      "Epoch 40/100\n",
      "435/435 - 1s - loss: 1.2310 - accuracy: 0.4984 - val_loss: 1.2345 - val_accuracy: 0.4903\n",
      "Epoch 41/100\n",
      "435/435 - 1s - loss: 1.2279 - accuracy: 0.4965 - val_loss: 1.2359 - val_accuracy: 0.4965\n",
      "Epoch 42/100\n",
      "435/435 - 1s - loss: 1.2253 - accuracy: 0.5009 - val_loss: 1.2277 - val_accuracy: 0.4993\n",
      "Epoch 43/100\n",
      "435/435 - 1s - loss: 1.2192 - accuracy: 0.5032 - val_loss: 1.2260 - val_accuracy: 0.5008\n",
      "Epoch 44/100\n",
      "435/435 - 1s - loss: 1.2155 - accuracy: 0.5061 - val_loss: 1.2291 - val_accuracy: 0.4998\n",
      "Epoch 45/100\n",
      "435/435 - 1s - loss: 1.2135 - accuracy: 0.5061 - val_loss: 1.2527 - val_accuracy: 0.4909\n",
      "Epoch 46/100\n",
      "435/435 - 1s - loss: 1.2053 - accuracy: 0.5101 - val_loss: 1.2119 - val_accuracy: 0.5055\n",
      "Epoch 47/100\n",
      "435/435 - 1s - loss: 1.2067 - accuracy: 0.5065 - val_loss: 1.2142 - val_accuracy: 0.5034\n",
      "Epoch 48/100\n",
      "435/435 - 1s - loss: 1.2009 - accuracy: 0.5107 - val_loss: 1.2135 - val_accuracy: 0.5044\n",
      "Epoch 49/100\n",
      "435/435 - 1s - loss: 1.1989 - accuracy: 0.5150 - val_loss: 1.2079 - val_accuracy: 0.5114\n",
      "Epoch 50/100\n",
      "435/435 - 1s - loss: 1.1947 - accuracy: 0.5112 - val_loss: 1.1999 - val_accuracy: 0.5072\n",
      "Epoch 51/100\n",
      "435/435 - 1s - loss: 1.1956 - accuracy: 0.5143 - val_loss: 1.2175 - val_accuracy: 0.5082\n",
      "Epoch 52/100\n",
      "435/435 - 1s - loss: 1.1898 - accuracy: 0.5183 - val_loss: 1.1976 - val_accuracy: 0.5168\n",
      "Epoch 53/100\n",
      "435/435 - 1s - loss: 1.1856 - accuracy: 0.5181 - val_loss: 1.1891 - val_accuracy: 0.5176\n",
      "Epoch 54/100\n",
      "435/435 - 1s - loss: 1.1842 - accuracy: 0.5218 - val_loss: 1.1865 - val_accuracy: 0.5133\n",
      "Epoch 55/100\n",
      "435/435 - 1s - loss: 1.1819 - accuracy: 0.5187 - val_loss: 1.1816 - val_accuracy: 0.5190\n",
      "Epoch 56/100\n",
      "435/435 - 1s - loss: 1.1785 - accuracy: 0.5232 - val_loss: 1.1787 - val_accuracy: 0.5222\n",
      "Epoch 57/100\n",
      "435/435 - 1s - loss: 1.1771 - accuracy: 0.5231 - val_loss: 1.1727 - val_accuracy: 0.5254\n",
      "Epoch 58/100\n",
      "435/435 - 1s - loss: 1.1721 - accuracy: 0.5241 - val_loss: 1.1968 - val_accuracy: 0.5193\n",
      "Epoch 59/100\n",
      "435/435 - 1s - loss: 1.1691 - accuracy: 0.5302 - val_loss: 1.1783 - val_accuracy: 0.5183\n",
      "Epoch 60/100\n",
      "435/435 - 1s - loss: 1.1666 - accuracy: 0.5260 - val_loss: 1.1731 - val_accuracy: 0.5265\n",
      "Epoch 61/100\n",
      "435/435 - 1s - loss: 1.1642 - accuracy: 0.5314 - val_loss: 1.1806 - val_accuracy: 0.5260\n",
      "Epoch 62/100\n",
      "435/435 - 1s - loss: 1.1639 - accuracy: 0.5301 - val_loss: 1.1670 - val_accuracy: 0.5287\n",
      "Epoch 63/100\n",
      "435/435 - 1s - loss: 1.1611 - accuracy: 0.5306 - val_loss: 1.1641 - val_accuracy: 0.5218\n",
      "Epoch 64/100\n",
      "435/435 - 1s - loss: 1.1573 - accuracy: 0.5300 - val_loss: 1.1640 - val_accuracy: 0.5272\n",
      "Epoch 65/100\n",
      "435/435 - 1s - loss: 1.1536 - accuracy: 0.5290 - val_loss: 1.1634 - val_accuracy: 0.5319\n",
      "Epoch 66/100\n",
      "435/435 - 1s - loss: 1.1527 - accuracy: 0.5360 - val_loss: 1.1575 - val_accuracy: 0.5171\n",
      "Epoch 67/100\n",
      "435/435 - 1s - loss: 1.1514 - accuracy: 0.5363 - val_loss: 1.1586 - val_accuracy: 0.5307\n",
      "Epoch 68/100\n",
      "435/435 - 1s - loss: 1.1520 - accuracy: 0.5315 - val_loss: 1.1630 - val_accuracy: 0.5272\n",
      "Epoch 69/100\n",
      "435/435 - 1s - loss: 1.1473 - accuracy: 0.5340 - val_loss: 1.1523 - val_accuracy: 0.5237\n",
      "Epoch 70/100\n",
      "435/435 - 1s - loss: 1.1441 - accuracy: 0.5379 - val_loss: 1.1526 - val_accuracy: 0.5270\n",
      "Epoch 71/100\n",
      "435/435 - 1s - loss: 1.1465 - accuracy: 0.5386 - val_loss: 1.1479 - val_accuracy: 0.5317\n",
      "Epoch 72/100\n",
      "435/435 - 1s - loss: 1.1379 - accuracy: 0.5389 - val_loss: 1.1495 - val_accuracy: 0.5337\n",
      "Epoch 73/100\n",
      "435/435 - 1s - loss: 1.1403 - accuracy: 0.5389 - val_loss: 1.1476 - val_accuracy: 0.5304\n",
      "Epoch 74/100\n",
      "435/435 - 1s - loss: 1.1380 - accuracy: 0.5384 - val_loss: 1.1523 - val_accuracy: 0.5316\n"
     ]
    },
    {
     "name": "stdout",
     "output_type": "stream",
     "text": [
      "Epoch 75/100\n",
      "435/435 - 1s - loss: 1.1341 - accuracy: 0.5440 - val_loss: 1.1401 - val_accuracy: 0.5349\n",
      "Epoch 76/100\n",
      "435/435 - 1s - loss: 1.1320 - accuracy: 0.5425 - val_loss: 1.1455 - val_accuracy: 0.5290\n",
      "Epoch 77/100\n",
      "435/435 - 1s - loss: 1.1311 - accuracy: 0.5423 - val_loss: 1.1361 - val_accuracy: 0.5321\n",
      "Epoch 78/100\n",
      "435/435 - 1s - loss: 1.1269 - accuracy: 0.5450 - val_loss: 1.1422 - val_accuracy: 0.5344\n",
      "Epoch 79/100\n",
      "435/435 - 1s - loss: 1.1291 - accuracy: 0.5466 - val_loss: 1.1342 - val_accuracy: 0.5359\n",
      "Epoch 80/100\n",
      "435/435 - 1s - loss: 1.1288 - accuracy: 0.5444 - val_loss: 1.1309 - val_accuracy: 0.5381\n",
      "Epoch 81/100\n",
      "435/435 - 1s - loss: 1.1233 - accuracy: 0.5438 - val_loss: 1.1339 - val_accuracy: 0.5423\n",
      "Epoch 82/100\n",
      "435/435 - 1s - loss: 1.1228 - accuracy: 0.5489 - val_loss: 1.1357 - val_accuracy: 0.5401\n",
      "Epoch 83/100\n",
      "435/435 - 1s - loss: 1.1198 - accuracy: 0.5480 - val_loss: 1.1335 - val_accuracy: 0.5349\n",
      "Epoch 84/100\n",
      "435/435 - 1s - loss: 1.1188 - accuracy: 0.5476 - val_loss: 1.1209 - val_accuracy: 0.5455\n",
      "Epoch 85/100\n",
      "435/435 - 1s - loss: 1.1192 - accuracy: 0.5478 - val_loss: 1.1304 - val_accuracy: 0.5447\n",
      "Epoch 86/100\n",
      "435/435 - 1s - loss: 1.1152 - accuracy: 0.5512 - val_loss: 1.1345 - val_accuracy: 0.5401\n",
      "Epoch 87/100\n",
      "435/435 - 1s - loss: 1.1142 - accuracy: 0.5528 - val_loss: 1.1305 - val_accuracy: 0.5467\n",
      "Epoch 88/100\n",
      "435/435 - 1s - loss: 1.1116 - accuracy: 0.5522 - val_loss: 1.1328 - val_accuracy: 0.5373\n",
      "Epoch 89/100\n",
      "435/435 - 1s - loss: 1.1101 - accuracy: 0.5511 - val_loss: 1.1218 - val_accuracy: 0.5418\n",
      "Epoch 90/100\n",
      "435/435 - 1s - loss: 1.1069 - accuracy: 0.5567 - val_loss: 1.1260 - val_accuracy: 0.5468\n",
      "Epoch 91/100\n",
      "435/435 - 1s - loss: 1.1097 - accuracy: 0.5558 - val_loss: 1.1216 - val_accuracy: 0.5485\n",
      "Epoch 92/100\n",
      "435/435 - 1s - loss: 1.1056 - accuracy: 0.5497 - val_loss: 1.1099 - val_accuracy: 0.5421\n",
      "Epoch 93/100\n",
      "435/435 - 2s - loss: 1.1049 - accuracy: 0.5540 - val_loss: 1.1341 - val_accuracy: 0.5433\n",
      "Epoch 94/100\n",
      "435/435 - 2s - loss: 1.1001 - accuracy: 0.5537 - val_loss: 1.1200 - val_accuracy: 0.5505\n",
      "Epoch 95/100\n",
      "435/435 - 2s - loss: 1.1000 - accuracy: 0.5584 - val_loss: 1.1091 - val_accuracy: 0.5541\n",
      "Epoch 96/100\n",
      "435/435 - 2s - loss: 1.1003 - accuracy: 0.5553 - val_loss: 1.1045 - val_accuracy: 0.5554\n",
      "Epoch 97/100\n",
      "435/435 - 1s - loss: 1.0992 - accuracy: 0.5553 - val_loss: 1.1371 - val_accuracy: 0.5440\n",
      "Epoch 98/100\n",
      "435/435 - 1s - loss: 1.0973 - accuracy: 0.5563 - val_loss: 1.1155 - val_accuracy: 0.5502\n",
      "Epoch 99/100\n",
      "435/435 - 1s - loss: 1.0959 - accuracy: 0.5607 - val_loss: 1.1330 - val_accuracy: 0.5390\n",
      "Epoch 100/100\n",
      "435/435 - 2s - loss: 1.0950 - accuracy: 0.5563 - val_loss: 1.0913 - val_accuracy: 0.5539\n",
      "<tensorflow.python.keras.callbacks.History object at 0x0000024A07A9C088>\n"
     ]
    }
   ],
   "source": [
    "history = model.fit(X_train, y_train, validation_data=(X_test, y_test),epochs=100, shuffle=True, verbose=2)\n",
    "print(history)"
   ]
  },
  {
   "cell_type": "code",
   "execution_count": 54,
   "id": "40473e48",
   "metadata": {},
   "outputs": [
    {
     "data": {
      "image/png": "[encoded data removed]",
      "text/plain": [
       "<Figure size 1296x720 with 1 Axes>"
      ]
     },
     "metadata": {
      "needs_background": "light"
     },
     "output_type": "display_data"
    }
   ],
   "source": [
    "plt.figure(figsize=(18, 10))\n",
    "plt.plot(history.history['accuracy'])\n",
    "plt.plot(history.history['val_accuracy'])\n",
    "plt.title('Model accuracy with SMOTE')\n",
    "plt.ylabel('accuracy')\n",
    "plt.xlabel('epoch')\n",
    "plt.legend(['train', 'test'], loc='best')\n",
    "plt.show()"
   ]
  },
  {
   "cell_type": "code",
   "execution_count": 53,
   "id": "4836c6b0",
   "metadata": {},
   "outputs": [
    {
     "data": {
      "image/png": "[encoded data removed]",
      "text/plain": [
       "<Figure size 1296x720 with 1 Axes>"
      ]
     },
     "metadata": {
      "needs_background": "light"
     },
     "output_type": "display_data"
    }
   ],
   "source": [
    "plt.figure(figsize=(18, 10))\n",
    "plt.plot(history.history['loss'])\n",
    "plt.plot(history.history['val_loss'])\n",
    "plt.title('model loss with SMOTE')\n",
    "plt.ylabel('loss')\n",
    "plt.xlabel('epoch')\n",
    "plt.legend(['train', 'test'], loc='best')\n",
    "plt.show()"
   ]
  },
  {
   "cell_type": "code",
   "execution_count": 39,
   "id": "7327b44e",
   "metadata": {},
   "outputs": [
    {
     "data": {
      "image/png": "[encoded data removed]",
      "text/plain": [
       "<Figure size 720x288 with 2 Axes>"
      ]
     },
     "metadata": {
      "needs_background": "light"
     },
     "output_type": "display_data"
    }
   ],
   "source": [
    "loss = history.history['loss']\n",
    "accuracy = history.history['accuracy']\n",
    "\n",
    "fig, axs = plt.subplots(nrows=1,ncols=2,figsize=(10,4))\n",
    "axs[0].plot(range(len(loss)), loss)\n",
    "axs[0].set(xlabel=\"Epochs\", ylabel=\"Loss\", title=\"Training loss\")\n",
    "axs[1].plot(range(len(accuracy)), accuracy)\n",
    "axs[1].set(xlabel=\"Epochs\", ylabel=\"Accuracy\", title=\"Training accuracy\")\n",
    "plt.show()"
   ]
  },
  {
   "cell_type": "code",
   "execution_count": 40,
   "id": "b5a85a1b",
   "metadata": {},
   "outputs": [
    {
     "name": "stdout",
     "output_type": "stream",
     "text": [
      "1.0765684843063354 0.5672855377197266\n"
     ]
    }
   ],
   "source": [
    "loss_train_score, accuracy_train_score  = model.evaluate(X_train, y_train, verbose=0)\n",
    "print(loss_train_score, accuracy_train_score)"
   ]
  },
  {
   "cell_type": "code",
   "execution_count": 41,
   "id": "72ef2fa1",
   "metadata": {},
   "outputs": [
    {
     "name": "stdout",
     "output_type": "stream",
     "text": [
      "1.0912716388702393 0.5538952350616455\n"
     ]
    }
   ],
   "source": [
    "loss_test_score, accuracy_test_score  = model.evaluate(X_test, y_test, verbose=0)\n",
    "print(loss_test_score, accuracy_test_score)"
   ]
  },
  {
   "cell_type": "code",
   "execution_count": 42,
   "id": "5dd7aa52",
   "metadata": {},
   "outputs": [
    {
     "name": "stdout",
     "output_type": "stream",
     "text": [
      "<class 'numpy.ndarray'>\n"
     ]
    },
    {
     "data": {
      "text/plain": [
       "array([[1.5590418e-05, 3.1956073e-04, 1.1181589e-03, ..., 1.8559780e-02,\n",
       "        2.5475333e-02, 9.4495547e-01],\n",
       "       [1.7663968e-03, 5.2378029e-03, 1.0858099e-02, ..., 3.0266383e-01,\n",
       "        5.4719591e-01, 8.3553983e-05],\n",
       "       [1.0277211e-04, 4.4002247e-04, 1.5626589e-03, ..., 5.7379410e-02,\n",
       "        6.3437484e-02, 8.5820526e-01],\n",
       "       ...,\n",
       "       [2.3718603e-02, 5.3317338e-02, 1.1289576e-01, ..., 3.5894030e-01,\n",
       "        5.3327557e-02, 1.4604791e-19],\n",
       "       [2.9416857e-04, 9.5182406e-03, 2.5966251e-02, ..., 3.4187111e-01,\n",
       "        3.8131157e-01, 1.7914584e-08],\n",
       "       [2.0687358e-02, 5.7294869e-01, 2.6989546e-01, ..., 1.4506163e-02,\n",
       "        2.7741917e-04, 0.0000000e+00]], dtype=float32)"
      ]
     },
     "execution_count": 42,
     "metadata": {},
     "output_type": "execute_result"
    }
   ],
   "source": [
    "predictions = model.predict(X_test)\n",
    "print(type(predictions))\n",
    "predictions"
   ]
  },
  {
   "cell_type": "code",
   "execution_count": 15,
   "id": "137181bf",
   "metadata": {},
   "outputs": [
    {
     "name": "stdout",
     "output_type": "stream",
     "text": [
      "<class 'pandas.core.frame.DataFrame'>\n"
     ]
    }
   ],
   "source": [
    "print(type(y_test))"
   ]
  },
  {
   "cell_type": "code",
   "execution_count": 44,
   "id": "546eca07",
   "metadata": {},
   "outputs": [],
   "source": [
    "y_test_cm = y_test.to_numpy()"
   ]
  },
  {
   "cell_type": "code",
   "execution_count": 45,
   "id": "d694f3e0",
   "metadata": {},
   "outputs": [
    {
     "name": "stdout",
     "output_type": "stream",
     "text": [
      "(5956, 7)\n",
      "(5956, 7)\n"
     ]
    }
   ],
   "source": [
    "print(y_test_cm.shape)\n",
    "print(predictions.shape)"
   ]
  },
  {
   "cell_type": "code",
   "execution_count": 46,
   "id": "10801b3d",
   "metadata": {},
   "outputs": [
    {
     "data": {
      "text/plain": [
       "array([[618,  97,  50,  55,   0,  11,   0],\n",
       "       [ 87, 481, 181,  64,  10,  18,   2],\n",
       "       [ 71, 197, 382, 133,  35,  31,   9],\n",
       "       [ 53,  66, 192, 192, 125, 175,  35],\n",
       "       [ 29,  25,  43, 148, 219, 319,  48],\n",
       "       [ 15,  15,  75,  57,  99, 561,  71],\n",
       "       [  0,   0,   0,   0,   0,  16, 846]], dtype=int64)"
      ]
     },
     "execution_count": 46,
     "metadata": {},
     "output_type": "execute_result"
    }
   ],
   "source": [
    "confusion_matrix(y_test_cm.argmax(axis=1), predictions.argmax(axis=1))"
   ]
  },
  {
   "cell_type": "code",
   "execution_count": 47,
   "id": "324796c4",
   "metadata": {},
   "outputs": [],
   "source": [
    "conf_matrix = tf.math.confusion_matrix(labels=y_test_cm.argmax(axis=1),\n",
    "                                       predictions=predictions.argmax(axis=1))"
   ]
  },
  {
   "cell_type": "code",
   "execution_count": 48,
   "id": "ae2adb79",
   "metadata": {},
   "outputs": [
    {
     "data": {
      "text/plain": [
       "<tf.Tensor: shape=(7, 7), dtype=int32, numpy=\n",
       "array([[618,  97,  50,  55,   0,  11,   0],\n",
       "       [ 87, 481, 181,  64,  10,  18,   2],\n",
       "       [ 71, 197, 382, 133,  35,  31,   9],\n",
       "       [ 53,  66, 192, 192, 125, 175,  35],\n",
       "       [ 29,  25,  43, 148, 219, 319,  48],\n",
       "       [ 15,  15,  75,  57,  99, 561,  71],\n",
       "       [  0,   0,   0,   0,   0,  16, 846]])>"
      ]
     },
     "execution_count": 48,
     "metadata": {},
     "output_type": "execute_result"
    }
   ],
   "source": [
    "conf_matrix"
   ]
  },
  {
   "cell_type": "code",
   "execution_count": 25,
   "id": "0de71356",
   "metadata": {},
   "outputs": [
    {
     "ename": "ValueError",
     "evalue": "plot_confusion_matrix only supports classifiers",
     "output_type": "error",
     "traceback": [
      "\u001b[1;31m---------------------------------------------------------------------------\u001b[0m",
      "\u001b[1;31mValueError\u001b[0m                                Traceback (most recent call last)",
      "\u001b[1;32m~\\AppData\\Local\\Temp/ipykernel_6848/2575222516.py\u001b[0m in \u001b[0;36m<module>\u001b[1;34m\u001b[0m\n\u001b[1;32m----> 1\u001b[1;33m \u001b[0mplot_confusion_matrix\u001b[0m\u001b[1;33m(\u001b[0m\u001b[0mmodel\u001b[0m\u001b[1;33m,\u001b[0m \u001b[0mX_test\u001b[0m\u001b[1;33m,\u001b[0m \u001b[0my_test\u001b[0m\u001b[1;33m)\u001b[0m\u001b[1;33m\u001b[0m\u001b[1;33m\u001b[0m\u001b[0m\n\u001b[0m",
      "\u001b[1;32m~\\anaconda3\\envs\\tf_2_wine\\lib\\site-packages\\sklearn\\utils\\validation.py\u001b[0m in \u001b[0;36minner_f\u001b[1;34m(*args, **kwargs)\u001b[0m\n\u001b[0;32m     61\u001b[0m             \u001b[0mextra_args\u001b[0m \u001b[1;33m=\u001b[0m \u001b[0mlen\u001b[0m\u001b[1;33m(\u001b[0m\u001b[0margs\u001b[0m\u001b[1;33m)\u001b[0m \u001b[1;33m-\u001b[0m \u001b[0mlen\u001b[0m\u001b[1;33m(\u001b[0m\u001b[0mall_args\u001b[0m\u001b[1;33m)\u001b[0m\u001b[1;33m\u001b[0m\u001b[1;33m\u001b[0m\u001b[0m\n\u001b[0;32m     62\u001b[0m             \u001b[1;32mif\u001b[0m \u001b[0mextra_args\u001b[0m \u001b[1;33m<=\u001b[0m \u001b[1;36m0\u001b[0m\u001b[1;33m:\u001b[0m\u001b[1;33m\u001b[0m\u001b[1;33m\u001b[0m\u001b[0m\n\u001b[1;32m---> 63\u001b[1;33m                 \u001b[1;32mreturn\u001b[0m \u001b[0mf\u001b[0m\u001b[1;33m(\u001b[0m\u001b[1;33m*\u001b[0m\u001b[0margs\u001b[0m\u001b[1;33m,\u001b[0m \u001b[1;33m**\u001b[0m\u001b[0mkwargs\u001b[0m\u001b[1;33m)\u001b[0m\u001b[1;33m\u001b[0m\u001b[1;33m\u001b[0m\u001b[0m\n\u001b[0m\u001b[0;32m     64\u001b[0m \u001b[1;33m\u001b[0m\u001b[0m\n\u001b[0;32m     65\u001b[0m             \u001b[1;31m# extra_args > 0\u001b[0m\u001b[1;33m\u001b[0m\u001b[1;33m\u001b[0m\u001b[1;33m\u001b[0m\u001b[0m\n",
      "\u001b[1;32m~\\anaconda3\\envs\\tf_2_wine\\lib\\site-packages\\sklearn\\metrics\\_plot\\confusion_matrix.py\u001b[0m in \u001b[0;36mplot_confusion_matrix\u001b[1;34m(estimator, X, y_true, labels, sample_weight, normalize, display_labels, include_values, xticks_rotation, values_format, cmap, ax, colorbar)\u001b[0m\n\u001b[0;32m    259\u001b[0m \u001b[1;33m\u001b[0m\u001b[0m\n\u001b[0;32m    260\u001b[0m     \u001b[1;32mif\u001b[0m \u001b[1;32mnot\u001b[0m \u001b[0mis_classifier\u001b[0m\u001b[1;33m(\u001b[0m\u001b[0mestimator\u001b[0m\u001b[1;33m)\u001b[0m\u001b[1;33m:\u001b[0m\u001b[1;33m\u001b[0m\u001b[1;33m\u001b[0m\u001b[0m\n\u001b[1;32m--> 261\u001b[1;33m         \u001b[1;32mraise\u001b[0m \u001b[0mValueError\u001b[0m\u001b[1;33m(\u001b[0m\u001b[1;34m\"plot_confusion_matrix only supports classifiers\"\u001b[0m\u001b[1;33m)\u001b[0m\u001b[1;33m\u001b[0m\u001b[1;33m\u001b[0m\u001b[0m\n\u001b[0m\u001b[0;32m    262\u001b[0m \u001b[1;33m\u001b[0m\u001b[0m\n\u001b[0;32m    263\u001b[0m     \u001b[0my_pred\u001b[0m \u001b[1;33m=\u001b[0m \u001b[0mestimator\u001b[0m\u001b[1;33m.\u001b[0m\u001b[0mpredict\u001b[0m\u001b[1;33m(\u001b[0m\u001b[0mX\u001b[0m\u001b[1;33m)\u001b[0m\u001b[1;33m\u001b[0m\u001b[1;33m\u001b[0m\u001b[0m\n",
      "\u001b[1;31mValueError\u001b[0m: plot_confusion_matrix only supports classifiers"
     ]
    }
   ],
   "source": [
    "plot_confusion_matrix(model, X_test, y_test)"
   ]
  },
  {
   "cell_type": "code",
   "execution_count": 50,
   "id": "0f45011f",
   "metadata": {},
   "outputs": [],
   "source": []
  },
  {
   "cell_type": "code",
   "execution_count": 52,
   "id": "c59f6a29",
   "metadata": {},
   "outputs": [
    {
     "ename": "AttributeError",
     "evalue": "'tensorflow.python.framework.ops.EagerTensor' object has no attribute 'max'",
     "output_type": "error",
     "traceback": [
      "\u001b[1;31m---------------------------------------------------------------------------\u001b[0m",
      "\u001b[1;31mAttributeError\u001b[0m                            Traceback (most recent call last)",
      "\u001b[1;32m~\\AppData\\Local\\Temp/ipykernel_1712/3618372667.py\u001b[0m in \u001b[0;36m<module>\u001b[1;34m\u001b[0m\n\u001b[0;32m      2\u001b[0m \u001b[0mdisp\u001b[0m \u001b[1;33m=\u001b[0m \u001b[0mConfusionMatrixDisplay\u001b[0m\u001b[1;33m(\u001b[0m\u001b[0mconfusion_matrix\u001b[0m\u001b[1;33m=\u001b[0m\u001b[0mconf_matrix\u001b[0m\u001b[1;33m,\u001b[0m \u001b[0mdisplay_labels\u001b[0m\u001b[1;33m=\u001b[0m\u001b[0mlabels\u001b[0m\u001b[1;33m)\u001b[0m\u001b[1;33m\u001b[0m\u001b[1;33m\u001b[0m\u001b[0m\n\u001b[0;32m      3\u001b[0m \u001b[1;33m\u001b[0m\u001b[0m\n\u001b[1;32m----> 4\u001b[1;33m \u001b[0mdisp\u001b[0m\u001b[1;33m.\u001b[0m\u001b[0mplot\u001b[0m\u001b[1;33m(\u001b[0m\u001b[0mcmap\u001b[0m\u001b[1;33m=\u001b[0m\u001b[0mplt\u001b[0m\u001b[1;33m.\u001b[0m\u001b[0mcm\u001b[0m\u001b[1;33m.\u001b[0m\u001b[0mBlues\u001b[0m\u001b[1;33m)\u001b[0m\u001b[1;33m\u001b[0m\u001b[1;33m\u001b[0m\u001b[0m\n\u001b[0m\u001b[0;32m      5\u001b[0m \u001b[0mplt\u001b[0m\u001b[1;33m.\u001b[0m\u001b[0mshow\u001b[0m\u001b[1;33m(\u001b[0m\u001b[1;33m)\u001b[0m\u001b[1;33m\u001b[0m\u001b[1;33m\u001b[0m\u001b[0m\n",
      "\u001b[1;32m~\\anaconda3\\envs\\tf_2_wine\\lib\\site-packages\\sklearn\\utils\\validation.py\u001b[0m in \u001b[0;36minner_f\u001b[1;34m(*args, **kwargs)\u001b[0m\n\u001b[0;32m     61\u001b[0m             \u001b[0mextra_args\u001b[0m \u001b[1;33m=\u001b[0m \u001b[0mlen\u001b[0m\u001b[1;33m(\u001b[0m\u001b[0margs\u001b[0m\u001b[1;33m)\u001b[0m \u001b[1;33m-\u001b[0m \u001b[0mlen\u001b[0m\u001b[1;33m(\u001b[0m\u001b[0mall_args\u001b[0m\u001b[1;33m)\u001b[0m\u001b[1;33m\u001b[0m\u001b[1;33m\u001b[0m\u001b[0m\n\u001b[0;32m     62\u001b[0m             \u001b[1;32mif\u001b[0m \u001b[0mextra_args\u001b[0m \u001b[1;33m<=\u001b[0m \u001b[1;36m0\u001b[0m\u001b[1;33m:\u001b[0m\u001b[1;33m\u001b[0m\u001b[1;33m\u001b[0m\u001b[0m\n\u001b[1;32m---> 63\u001b[1;33m                 \u001b[1;32mreturn\u001b[0m \u001b[0mf\u001b[0m\u001b[1;33m(\u001b[0m\u001b[1;33m*\u001b[0m\u001b[0margs\u001b[0m\u001b[1;33m,\u001b[0m \u001b[1;33m**\u001b[0m\u001b[0mkwargs\u001b[0m\u001b[1;33m)\u001b[0m\u001b[1;33m\u001b[0m\u001b[1;33m\u001b[0m\u001b[0m\n\u001b[0m\u001b[0;32m     64\u001b[0m \u001b[1;33m\u001b[0m\u001b[0m\n\u001b[0;32m     65\u001b[0m             \u001b[1;31m# extra_args > 0\u001b[0m\u001b[1;33m\u001b[0m\u001b[1;33m\u001b[0m\u001b[1;33m\u001b[0m\u001b[0m\n",
      "\u001b[1;32m~\\anaconda3\\envs\\tf_2_wine\\lib\\site-packages\\sklearn\\metrics\\_plot\\confusion_matrix.py\u001b[0m in \u001b[0;36mplot\u001b[1;34m(self, include_values, cmap, xticks_rotation, values_format, ax, colorbar)\u001b[0m\n\u001b[0;32m    126\u001b[0m \u001b[1;33m\u001b[0m\u001b[0m\n\u001b[0;32m    127\u001b[0m             \u001b[1;31m# print text with appropriate color depending on background\u001b[0m\u001b[1;33m\u001b[0m\u001b[1;33m\u001b[0m\u001b[1;33m\u001b[0m\u001b[0m\n\u001b[1;32m--> 128\u001b[1;33m             \u001b[0mthresh\u001b[0m \u001b[1;33m=\u001b[0m \u001b[1;33m(\u001b[0m\u001b[0mcm\u001b[0m\u001b[1;33m.\u001b[0m\u001b[0mmax\u001b[0m\u001b[1;33m(\u001b[0m\u001b[1;33m)\u001b[0m \u001b[1;33m+\u001b[0m \u001b[0mcm\u001b[0m\u001b[1;33m.\u001b[0m\u001b[0mmin\u001b[0m\u001b[1;33m(\u001b[0m\u001b[1;33m)\u001b[0m\u001b[1;33m)\u001b[0m \u001b[1;33m/\u001b[0m \u001b[1;36m2.0\u001b[0m\u001b[1;33m\u001b[0m\u001b[1;33m\u001b[0m\u001b[0m\n\u001b[0m\u001b[0;32m    129\u001b[0m \u001b[1;33m\u001b[0m\u001b[0m\n\u001b[0;32m    130\u001b[0m             \u001b[1;32mfor\u001b[0m \u001b[0mi\u001b[0m\u001b[1;33m,\u001b[0m \u001b[0mj\u001b[0m \u001b[1;32min\u001b[0m \u001b[0mproduct\u001b[0m\u001b[1;33m(\u001b[0m\u001b[0mrange\u001b[0m\u001b[1;33m(\u001b[0m\u001b[0mn_classes\u001b[0m\u001b[1;33m)\u001b[0m\u001b[1;33m,\u001b[0m \u001b[0mrange\u001b[0m\u001b[1;33m(\u001b[0m\u001b[0mn_classes\u001b[0m\u001b[1;33m)\u001b[0m\u001b[1;33m)\u001b[0m\u001b[1;33m:\u001b[0m\u001b[1;33m\u001b[0m\u001b[1;33m\u001b[0m\u001b[0m\n",
      "\u001b[1;31mAttributeError\u001b[0m: 'tensorflow.python.framework.ops.EagerTensor' object has no attribute 'max'"
     ]
    },
    {
     "data": {
      "image/png": "[encoded data removed]",
      "text/plain": [
       "<Figure size 432x288 with 1 Axes>"
      ]
     },
     "metadata": {
      "needs_background": "light"
     },
     "output_type": "display_data"
    }
   ],
   "source": [
    "labels = ['3',\"4\",\"5\",\"6\",\"7\",\"8\",\"9\"]\n",
    "disp = ConfusionMatrixDisplay(confusion_matrix=conf_matrix, display_labels=labels)\n",
    "\n",
    "disp.plot(cmap=plt.cm.Blues)\n",
    "plt.show()"
   ]
  },
  {
   "cell_type": "code",
   "execution_count": 38,
   "id": "1a3f09de",
   "metadata": {},
   "outputs": [
    {
     "data": {
      "image/png": "[encoded data removed]",
      "text/plain": [
       "<Figure size 432x288 with 2 Axes>"
      ]
     },
     "metadata": {
      "needs_background": "light"
     },
     "output_type": "display_data"
    }
   ],
   "source": [
    "plt.imshow(conf_matrix, cmap=plt.cm.Blues)\n",
    "plt.xlabel(labels)\n",
    "plt.ylabel(\"True labels\")\n",
    "plt.xticks([], [])\n",
    "plt.yticks([], [])\n",
    "plt.title('Confusion matrix ')\n",
    "plt.colorbar()\n",
    "plt.show()"
   ]
  },
  {
   "cell_type": "code",
   "execution_count": null,
   "id": "f8cb6da7",
   "metadata": {},
   "outputs": [],
   "source": [
    "# # Accuracy calculated using Keras' method\n",
    "# metric = tf.keras.metrics.Accuracy()\n",
    "# metric.update_state(yTrue,yPred)\n",
    "# metric.result().numpy("
   ]
  },
  {
   "cell_type": "code",
   "execution_count": null,
   "id": "9272a257",
   "metadata": {},
   "outputs": [],
   "source": [
    "# model = Sequential()\n",
    "# model.add(Flatten())\n",
    "# model.add(Dense(units=class_num,activation='softmax'))\n",
    "# model.compile(loss='categorical_crossentropy', optimizer='adam',               \n",
    "#               metrics=['accuracy'])\n",
    "# history = model.fit(X_train, y_train, validation_data=(X_test, y_test), epochs=800, shuffle=False, verbose=0)\n",
    "# print(history)\n",
    "# loss_train_score, accuracy_train_score  = model.evaluate(X_train, y_train, verbose=0)\n",
    "# print(loss_train_score, accuracy_train_score)\n",
    "# loss_test_score, accuracy_test_score  = model.evaluate(X_test, y_test, verbose=0)\n",
    "# print(loss_test_score, accuracy_test_score)"
   ]
  },
  {
   "cell_type": "code",
   "execution_count": null,
   "id": "d77b48ef",
   "metadata": {},
   "outputs": [],
   "source": []
  }
 ],
 "metadata": {
  "kernelspec": {
   "display_name": "tf_2_wine",
   "language": "python",
   "name": "tf_2_wine"
  },
  "language_info": {
   "codemirror_mode": {
    "name": "ipython",
    "version": 3
   },
   "file_extension": ".py",
   "mimetype": "text/x-python",
   "name": "python",
   "nbconvert_exporter": "python",
   "pygments_lexer": "ipython3",
   "version": "3.7.11"
  }
 },
 "nbformat": 4,
 "nbformat_minor": 5
}
