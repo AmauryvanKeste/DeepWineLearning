{
 "cells": [
  {
   "cell_type": "code",
   "execution_count": 1,
   "id": "282e0358",
   "metadata": {},
   "outputs": [
    {
     "name": "stderr",
     "output_type": "stream",
     "text": [
      "Using TensorFlow backend.\n"
     ]
    }
   ],
   "source": [
    "import numpy as np\n",
    "import pandas as pd\n",
    "import tensorflow as tf\n",
    "from tensorflow import keras\n",
    "from tensorflow.keras import Sequential\n",
    "from tensorflow.keras.layers import Conv2D, Flatten, Dense\n",
    "from keras.optimizers import Adam \n",
    "from keras.utils import to_categorical\n",
    "import matplotlib.pyplot as plt\n",
    "from sklearn.model_selection import train_test_split\n",
    "from sklearn.preprocessing import StandardScaler\n",
    "from sklearn.metrics import confusion_matrix\n",
    "from sklearn.metrics import plot_confusion_matrix\n",
    "from sklearn.metrics import ConfusionMatrixDisplay\n",
    "import keras_tuner as kt\n",
    "\n",
    "%matplotlib inline"
   ]
  },
  {
   "cell_type": "code",
   "execution_count": 2,
   "id": "46deb691",
   "metadata": {},
   "outputs": [],
   "source": [
    "# Read in white wine data \n",
    "white = pd.read_csv(\"http://archive.ics.uci.edu/ml/machine-learning-databases/wine-quality/winequality-white.csv\", sep=';')\n",
    "\n",
    "# Read in red wine data \n",
    "red = pd.read_csv(\"http://archive.ics.uci.edu/ml/machine-learning-databases/wine-quality/winequality-red.csv\", sep=';')"
   ]
  },
  {
   "cell_type": "code",
   "execution_count": 3,
   "id": "de2ecf7e",
   "metadata": {},
   "outputs": [],
   "source": [
    "# Add `type` column to `red` with value 1\n",
    "red['type'] = 1\n",
    "\n",
    "# Add `type` column to `white` with value 0\n",
    "white['type'] = 0\n",
    "\n",
    "# Append `white` to `red`\n",
    "wines = red.append(white, ignore_index=True)\n",
    "wines.to_csv(r'Datasets/wine_with_types.csv', index=False)"
   ]
  },
  {
   "cell_type": "code",
   "execution_count": 4,
   "id": "beb2fbb5",
   "metadata": {},
   "outputs": [],
   "source": [
    "filepath = \"datasets/wine_with_types.csv\"\n",
    "df = pd.read_csv(filepath)\n",
    "df = df.sample(frac=1, random_state = 42, ignore_index=True)"
   ]
  },
  {
   "cell_type": "code",
   "execution_count": 5,
   "id": "b0d04b89",
   "metadata": {},
   "outputs": [],
   "source": [
    "df['goodquality'] = [1 if x >= 6 else 0 for x in df['quality']]\n",
    "df = df.drop(columns=['quality'])"
   ]
  },
  {
   "cell_type": "code",
   "execution_count": 6,
   "id": "b9c84396",
   "metadata": {},
   "outputs": [
    {
     "data": {
      "text/plain": [
       "(6497, 1)"
      ]
     },
     "execution_count": 6,
     "metadata": {},
     "output_type": "execute_result"
    }
   ],
   "source": [
    "X = df.drop(\"goodquality\", axis=1)\n",
    "y = df[\"goodquality\"]\n",
    "y = np.asarray(y).astype('int32').reshape((-1,1))\n",
    "y.shape"
   ]
  },
  {
   "cell_type": "code",
   "execution_count": 7,
   "id": "5909e406",
   "metadata": {},
   "outputs": [],
   "source": [
    "def build_model(hp):\n",
    "    model = keras.Sequential()\n",
    "    for i in range(hp.Int('num_layers', 2, 20)):\n",
    "        model.add(Dense(units=hp.Int('units_' + str(i),\n",
    "                                            min_value=2,\n",
    "                                            max_value=40,\n",
    "                                            step=2),\n",
    "                               activation='relu'))\n",
    "    model.add(Dense(1, activation='sigmoid'))\n",
    "    model.compile(\n",
    "        optimizer=keras.optimizers.Adam(\n",
    "            hp.Choice('learning_rate', [1e-2, 1e-3])),\n",
    "        loss='binary_crossentropy',\n",
    "        metrics=['accuracy'])\n",
    "    return model"
   ]
  },
  {
   "cell_type": "code",
   "execution_count": 8,
   "id": "9b4d405c",
   "metadata": {},
   "outputs": [],
   "source": [
    "directory = r'C:\\Users\\Amaury\\Documents\\Wine_with_types'"
   ]
  },
  {
   "cell_type": "code",
   "execution_count": 14,
   "id": "8f3451e2",
   "metadata": {},
   "outputs": [],
   "source": [
    "tuner = kt.RandomSearch(\n",
    "    build_model,\n",
    "    objective='val_accuracy',\n",
    "    max_trials=5,\n",
    "    executions_per_trial=3,\n",
    "    directory=directory,\n",
    "    project_name='Wine_binary_adam_nosampling')"
   ]
  },
  {
   "cell_type": "code",
   "execution_count": 15,
   "id": "b071be9b",
   "metadata": {},
   "outputs": [
    {
     "name": "stdout",
     "output_type": "stream",
     "text": [
      "(5197, 12)\n",
      "(1300, 12)\n",
      "(5197, 1)\n",
      "(1300, 1)\n",
      "(5197, 12)\n",
      "(1300, 12)\n"
     ]
    }
   ],
   "source": [
    "X_train, X_test, y_train, y_test = train_test_split(X, y, test_size = 0.3, stratify=y, random_state = 10, shuffle=True)\n",
    "print(X_train.shape)\n",
    "print(X_test.shape)\n",
    "print(y_train.shape)\n",
    "print(y_test.shape)\n",
    "X_train = tf.keras.utils.normalize(X_train, axis=1)\n",
    "X_test = tf.keras.utils.normalize(X_test, axis=1)\n",
    "print(X_train.shape)\n",
    "print(X_test.shape)"
   ]
  },
  {
   "cell_type": "code",
   "execution_count": 16,
   "id": "0f6c49d9",
   "metadata": {},
   "outputs": [],
   "source": [
    "stop_early = tf.keras.callbacks.EarlyStopping(monitor='val_accuracy', patience=10)"
   ]
  },
  {
   "cell_type": "code",
   "execution_count": 17,
   "id": "4d57be85",
   "metadata": {},
   "outputs": [
    {
     "name": "stdout",
     "output_type": "stream",
     "text": [
      "Trial 5 Complete [00h 00m 34s]\n",
      "val_accuracy: 0.6992307702700297\n",
      "\n",
      "Best val_accuracy So Far: 0.7005128264427185\n",
      "Total elapsed time: 00h 02m 09s\n",
      "INFO:tensorflow:Oracle triggered exit\n"
     ]
    }
   ],
   "source": [
    "tuner.search(X_train, y_train,\n",
    "             epochs=100,\n",
    "             validation_data=(X_test, y_test), callbacks=[stop_early])"
   ]
  },
  {
   "cell_type": "code",
   "execution_count": 18,
   "id": "146054bf",
   "metadata": {},
   "outputs": [
    {
     "name": "stdout",
     "output_type": "stream",
     "text": [
      "Results summary\n",
      "Results in C:\\Users\\Amaury\\Documents\\Wine_with_types\\Wine_binary_adam_nosampling\n",
      "Showing 10 best trials\n",
      "Objective(name='val_accuracy', direction='max')\n",
      "Trial summary\n",
      "Hyperparameters:\n",
      "num_layers: 4\n",
      "units_0: 14\n",
      "units_1: 40\n",
      "learning_rate: 0.001\n",
      "units_2: 2\n",
      "units_3: 2\n",
      "Score: 0.7005128264427185\n",
      "Trial summary\n",
      "Hyperparameters:\n",
      "num_layers: 15\n",
      "units_0: 10\n",
      "units_1: 26\n",
      "learning_rate: 0.001\n",
      "units_2: 12\n",
      "units_3: 40\n",
      "units_4: 8\n",
      "units_5: 28\n",
      "units_6: 16\n",
      "units_7: 34\n",
      "units_8: 10\n",
      "units_9: 40\n",
      "units_10: 12\n",
      "units_11: 18\n",
      "units_12: 40\n",
      "units_13: 14\n",
      "units_14: 24\n",
      "units_15: 4\n",
      "Score: 0.6992307702700297\n",
      "Trial summary\n",
      "Hyperparameters:\n",
      "num_layers: 13\n",
      "units_0: 38\n",
      "units_1: 18\n",
      "learning_rate: 0.001\n",
      "units_2: 30\n",
      "units_3: 14\n",
      "units_4: 2\n",
      "units_5: 2\n",
      "units_6: 2\n",
      "units_7: 2\n",
      "units_8: 2\n",
      "units_9: 2\n",
      "units_10: 2\n",
      "units_11: 2\n",
      "units_12: 2\n",
      "Score: 0.6689743399620056\n",
      "Trial summary\n",
      "Hyperparameters:\n",
      "num_layers: 8\n",
      "units_0: 18\n",
      "units_1: 16\n",
      "learning_rate: 0.01\n",
      "units_2: 28\n",
      "units_3: 20\n",
      "units_4: 36\n",
      "units_5: 4\n",
      "units_6: 10\n",
      "units_7: 28\n",
      "units_8: 4\n",
      "units_9: 10\n",
      "units_10: 12\n",
      "units_11: 8\n",
      "units_12: 30\n",
      "Score: 0.6330769062042236\n",
      "Trial summary\n",
      "Hyperparameters:\n",
      "num_layers: 16\n",
      "units_0: 14\n",
      "units_1: 30\n",
      "learning_rate: 0.001\n",
      "units_2: 32\n",
      "units_3: 30\n",
      "units_4: 18\n",
      "units_5: 4\n",
      "units_6: 2\n",
      "units_7: 36\n",
      "units_8: 30\n",
      "units_9: 8\n",
      "units_10: 28\n",
      "units_11: 16\n",
      "units_12: 12\n",
      "units_13: 2\n",
      "units_14: 2\n",
      "units_15: 2\n",
      "Score: 0.6330769062042236\n"
     ]
    }
   ],
   "source": [
    "tuner.results_summary()"
   ]
  },
  {
   "cell_type": "code",
   "execution_count": 12,
   "id": "b83b53a2",
   "metadata": {},
   "outputs": [],
   "source": [
    "X= preprocessing.StandardScaler().fit(X).transform(X)\n",
    "\n",
    "model = Sequential()\n",
    "\n",
    "model.add(Dense(12, activation='relu', input_shape=(12,)))\n",
    "\n",
    "# hidden layer \n",
    "model.add(Dense(8, activation='relu'))\n",
    "\n",
    "# output layer \n",
    "model.add(Dense(1, activation='sigmoid'))"
   ]
  },
  {
   "cell_type": "code",
   "execution_count": 13,
   "id": "811d0926",
   "metadata": {},
   "outputs": [],
   "source": [
    "model.compile(loss='binary_crossentropy', optimizer='adam',               \n",
    "              metrics=['accuracy'])"
   ]
  },
  {
   "cell_type": "code",
   "execution_count": 14,
   "id": "64de82e1",
   "metadata": {},
   "outputs": [
    {
     "name": "stdout",
     "output_type": "stream",
     "text": [
      "Epoch 1/100\n",
      "WARNING:tensorflow:Layer dense_8 is casting an input tensor from dtype float64 to the layer's dtype of float32, which is new behavior in TensorFlow 2.  The layer has dtype float32 because its dtype defaults to floatx.\n",
      "\n",
      "If you intended to run this layer in float32, you can safely ignore this warning. If in doubt, this warning is likely only an issue if you are porting a TensorFlow 1.X model to TensorFlow 2.\n",
      "\n",
      "To change all layers to have dtype float64 by default, call `tf.keras.backend.set_floatx('float64')`. To change just this layer, pass dtype='float64' to the layer constructor. If you are the author of this layer, you can disable autocasting by passing autocast=False to the base Layer constructor.\n",
      "\n",
      "163/163 - 0s - loss: 0.6851 - accuracy: 0.5961 - val_loss: 0.6718 - val_accuracy: 0.6331\n",
      "Epoch 2/100\n",
      "163/163 - 0s - loss: 0.6623 - accuracy: 0.6331 - val_loss: 0.6578 - val_accuracy: 0.6331\n",
      "Epoch 3/100\n",
      "163/163 - 0s - loss: 0.6580 - accuracy: 0.6331 - val_loss: 0.6574 - val_accuracy: 0.6331\n",
      "Epoch 4/100\n",
      "163/163 - 0s - loss: 0.6576 - accuracy: 0.6331 - val_loss: 0.6573 - val_accuracy: 0.6331\n",
      "Epoch 5/100\n",
      "163/163 - 0s - loss: 0.6572 - accuracy: 0.6331 - val_loss: 0.6564 - val_accuracy: 0.6331\n",
      "Epoch 6/100\n",
      "163/163 - 0s - loss: 0.6558 - accuracy: 0.6331 - val_loss: 0.6556 - val_accuracy: 0.6331\n",
      "Epoch 7/100\n",
      "163/163 - 0s - loss: 0.6549 - accuracy: 0.6331 - val_loss: 0.6544 - val_accuracy: 0.6331\n",
      "Epoch 8/100\n",
      "163/163 - 0s - loss: 0.6538 - accuracy: 0.6331 - val_loss: 0.6534 - val_accuracy: 0.6331\n",
      "Epoch 9/100\n",
      "163/163 - 0s - loss: 0.6526 - accuracy: 0.6331 - val_loss: 0.6521 - val_accuracy: 0.6331\n",
      "Epoch 10/100\n",
      "163/163 - 0s - loss: 0.6512 - accuracy: 0.6331 - val_loss: 0.6509 - val_accuracy: 0.6331\n",
      "Epoch 11/100\n",
      "163/163 - 0s - loss: 0.6501 - accuracy: 0.6331 - val_loss: 0.6493 - val_accuracy: 0.6331\n",
      "Epoch 12/100\n",
      "163/163 - 0s - loss: 0.6485 - accuracy: 0.6331 - val_loss: 0.6484 - val_accuracy: 0.6331\n",
      "Epoch 13/100\n",
      "163/163 - 0s - loss: 0.6469 - accuracy: 0.6331 - val_loss: 0.6474 - val_accuracy: 0.6331\n",
      "Epoch 14/100\n",
      "163/163 - 0s - loss: 0.6457 - accuracy: 0.6331 - val_loss: 0.6449 - val_accuracy: 0.6331\n",
      "Epoch 15/100\n",
      "163/163 - 0s - loss: 0.6440 - accuracy: 0.6331 - val_loss: 0.6436 - val_accuracy: 0.6331\n",
      "Epoch 16/100\n",
      "163/163 - 0s - loss: 0.6427 - accuracy: 0.6331 - val_loss: 0.6421 - val_accuracy: 0.6331\n",
      "Epoch 17/100\n",
      "163/163 - 0s - loss: 0.6407 - accuracy: 0.6331 - val_loss: 0.6410 - val_accuracy: 0.6331\n",
      "Epoch 18/100\n",
      "163/163 - 0s - loss: 0.6392 - accuracy: 0.6331 - val_loss: 0.6391 - val_accuracy: 0.6331\n",
      "Epoch 19/100\n",
      "163/163 - 0s - loss: 0.6379 - accuracy: 0.6331 - val_loss: 0.6377 - val_accuracy: 0.6331\n",
      "Epoch 20/100\n",
      "163/163 - 0s - loss: 0.6366 - accuracy: 0.6331 - val_loss: 0.6369 - val_accuracy: 0.6331\n",
      "Epoch 21/100\n",
      "163/163 - 0s - loss: 0.6349 - accuracy: 0.6331 - val_loss: 0.6352 - val_accuracy: 0.6331\n",
      "Epoch 22/100\n",
      "163/163 - 0s - loss: 0.6335 - accuracy: 0.6331 - val_loss: 0.6347 - val_accuracy: 0.6331\n",
      "Epoch 23/100\n",
      "163/163 - 0s - loss: 0.6323 - accuracy: 0.6331 - val_loss: 0.6355 - val_accuracy: 0.6331\n",
      "Epoch 24/100\n",
      "163/163 - 0s - loss: 0.6310 - accuracy: 0.6331 - val_loss: 0.6319 - val_accuracy: 0.6331\n",
      "Epoch 25/100\n",
      "163/163 - 0s - loss: 0.6292 - accuracy: 0.6361 - val_loss: 0.6295 - val_accuracy: 0.6477\n",
      "Epoch 26/100\n",
      "163/163 - 0s - loss: 0.6283 - accuracy: 0.6429 - val_loss: 0.6277 - val_accuracy: 0.6500\n",
      "Epoch 27/100\n",
      "163/163 - 0s - loss: 0.6269 - accuracy: 0.6490 - val_loss: 0.6259 - val_accuracy: 0.6546\n",
      "Epoch 28/100\n",
      "163/163 - 0s - loss: 0.6244 - accuracy: 0.6479 - val_loss: 0.6240 - val_accuracy: 0.6531\n",
      "Epoch 29/100\n",
      "163/163 - 0s - loss: 0.6225 - accuracy: 0.6473 - val_loss: 0.6238 - val_accuracy: 0.6515\n",
      "Epoch 30/100\n",
      "163/163 - 0s - loss: 0.6209 - accuracy: 0.6515 - val_loss: 0.6202 - val_accuracy: 0.6608\n",
      "Epoch 31/100\n",
      "163/163 - 0s - loss: 0.6189 - accuracy: 0.6525 - val_loss: 0.6182 - val_accuracy: 0.6646\n",
      "Epoch 32/100\n",
      "163/163 - 0s - loss: 0.6167 - accuracy: 0.6575 - val_loss: 0.6161 - val_accuracy: 0.6608\n",
      "Epoch 33/100\n",
      "163/163 - 0s - loss: 0.6151 - accuracy: 0.6552 - val_loss: 0.6136 - val_accuracy: 0.6638\n",
      "Epoch 34/100\n",
      "163/163 - 0s - loss: 0.6121 - accuracy: 0.6565 - val_loss: 0.6121 - val_accuracy: 0.6623\n",
      "Epoch 35/100\n",
      "163/163 - 0s - loss: 0.6097 - accuracy: 0.6590 - val_loss: 0.6095 - val_accuracy: 0.6638\n",
      "Epoch 36/100\n",
      "163/163 - 0s - loss: 0.6083 - accuracy: 0.6610 - val_loss: 0.6068 - val_accuracy: 0.6708\n",
      "Epoch 37/100\n",
      "163/163 - 0s - loss: 0.6049 - accuracy: 0.6640 - val_loss: 0.6037 - val_accuracy: 0.6723\n",
      "Epoch 38/100\n",
      "163/163 - 0s - loss: 0.6033 - accuracy: 0.6588 - val_loss: 0.6004 - val_accuracy: 0.6769\n",
      "Epoch 39/100\n",
      "163/163 - 0s - loss: 0.6013 - accuracy: 0.6633 - val_loss: 0.5976 - val_accuracy: 0.6746\n",
      "Epoch 40/100\n",
      "163/163 - 0s - loss: 0.5978 - accuracy: 0.6637 - val_loss: 0.5955 - val_accuracy: 0.6738\n",
      "Epoch 41/100\n",
      "163/163 - 0s - loss: 0.5952 - accuracy: 0.6658 - val_loss: 0.5931 - val_accuracy: 0.6754\n",
      "Epoch 42/100\n",
      "163/163 - 0s - loss: 0.5922 - accuracy: 0.6746 - val_loss: 0.5934 - val_accuracy: 0.6892\n",
      "Epoch 43/100\n",
      "163/163 - 0s - loss: 0.5896 - accuracy: 0.6675 - val_loss: 0.5883 - val_accuracy: 0.6785\n",
      "Epoch 44/100\n",
      "163/163 - 0s - loss: 0.5871 - accuracy: 0.6725 - val_loss: 0.5852 - val_accuracy: 0.6800\n",
      "Epoch 45/100\n",
      "163/163 - 0s - loss: 0.5840 - accuracy: 0.6812 - val_loss: 0.5832 - val_accuracy: 0.6746\n",
      "Epoch 46/100\n",
      "163/163 - 0s - loss: 0.5814 - accuracy: 0.6827 - val_loss: 0.5794 - val_accuracy: 0.6769\n",
      "Epoch 47/100\n",
      "163/163 - 0s - loss: 0.5794 - accuracy: 0.6777 - val_loss: 0.5783 - val_accuracy: 0.6792\n",
      "Epoch 48/100\n",
      "163/163 - 0s - loss: 0.5776 - accuracy: 0.6767 - val_loss: 0.5753 - val_accuracy: 0.6815\n",
      "Epoch 49/100\n",
      "163/163 - 0s - loss: 0.5748 - accuracy: 0.6867 - val_loss: 0.5722 - val_accuracy: 0.6862\n",
      "Epoch 50/100\n",
      "163/163 - 0s - loss: 0.5725 - accuracy: 0.6856 - val_loss: 0.5704 - val_accuracy: 0.6908\n",
      "Epoch 51/100\n",
      "163/163 - 0s - loss: 0.5704 - accuracy: 0.6881 - val_loss: 0.5702 - val_accuracy: 0.6969\n",
      "Epoch 52/100\n",
      "163/163 - 0s - loss: 0.5696 - accuracy: 0.6891 - val_loss: 0.5672 - val_accuracy: 0.7038\n",
      "Epoch 53/100\n",
      "163/163 - 0s - loss: 0.5669 - accuracy: 0.6914 - val_loss: 0.5664 - val_accuracy: 0.6823\n",
      "Epoch 54/100\n",
      "163/163 - 0s - loss: 0.5644 - accuracy: 0.6883 - val_loss: 0.5622 - val_accuracy: 0.6985\n",
      "Epoch 55/100\n",
      "163/163 - 0s - loss: 0.5631 - accuracy: 0.6879 - val_loss: 0.5620 - val_accuracy: 0.7062\n",
      "Epoch 56/100\n",
      "163/163 - 0s - loss: 0.5618 - accuracy: 0.6919 - val_loss: 0.5653 - val_accuracy: 0.6823\n",
      "Epoch 57/100\n",
      "163/163 - 0s - loss: 0.5612 - accuracy: 0.6989 - val_loss: 0.5612 - val_accuracy: 0.7046\n",
      "Epoch 58/100\n",
      "163/163 - 0s - loss: 0.5582 - accuracy: 0.6966 - val_loss: 0.5597 - val_accuracy: 0.6908\n",
      "Epoch 59/100\n",
      "163/163 - 0s - loss: 0.5573 - accuracy: 0.6941 - val_loss: 0.5550 - val_accuracy: 0.7046\n",
      "Epoch 60/100\n",
      "163/163 - 0s - loss: 0.5562 - accuracy: 0.6966 - val_loss: 0.5577 - val_accuracy: 0.6838\n",
      "Epoch 61/100\n",
      "163/163 - 0s - loss: 0.5566 - accuracy: 0.6956 - val_loss: 0.5540 - val_accuracy: 0.7031\n",
      "Epoch 62/100\n",
      "163/163 - 0s - loss: 0.5537 - accuracy: 0.7006 - val_loss: 0.5533 - val_accuracy: 0.7115\n",
      "Epoch 63/100\n",
      "163/163 - 0s - loss: 0.5516 - accuracy: 0.7043 - val_loss: 0.5512 - val_accuracy: 0.7046\n",
      "Epoch 64/100\n",
      "163/163 - 0s - loss: 0.5521 - accuracy: 0.7027 - val_loss: 0.5558 - val_accuracy: 0.7169\n",
      "Epoch 65/100\n",
      "163/163 - 0s - loss: 0.5520 - accuracy: 0.7033 - val_loss: 0.5477 - val_accuracy: 0.7115\n",
      "Epoch 66/100\n",
      "163/163 - 0s - loss: 0.5493 - accuracy: 0.7069 - val_loss: 0.5465 - val_accuracy: 0.7077\n",
      "Epoch 67/100\n",
      "163/163 - 0s - loss: 0.5481 - accuracy: 0.7050 - val_loss: 0.5499 - val_accuracy: 0.6954\n",
      "Epoch 68/100\n",
      "163/163 - 0s - loss: 0.5472 - accuracy: 0.7033 - val_loss: 0.5488 - val_accuracy: 0.7215\n",
      "Epoch 69/100\n",
      "163/163 - 0s - loss: 0.5470 - accuracy: 0.7035 - val_loss: 0.5440 - val_accuracy: 0.7100\n",
      "Epoch 70/100\n",
      "163/163 - 0s - loss: 0.5455 - accuracy: 0.7094 - val_loss: 0.5449 - val_accuracy: 0.7023\n",
      "Epoch 71/100\n",
      "163/163 - 0s - loss: 0.5449 - accuracy: 0.7081 - val_loss: 0.5446 - val_accuracy: 0.7138\n",
      "Epoch 72/100\n",
      "163/163 - 0s - loss: 0.5437 - accuracy: 0.7044 - val_loss: 0.5445 - val_accuracy: 0.6977\n",
      "Epoch 73/100\n",
      "163/163 - 0s - loss: 0.5439 - accuracy: 0.7104 - val_loss: 0.5413 - val_accuracy: 0.7154\n",
      "Epoch 74/100\n",
      "163/163 - 0s - loss: 0.5419 - accuracy: 0.7139 - val_loss: 0.5395 - val_accuracy: 0.7131\n"
     ]
    },
    {
     "name": "stdout",
     "output_type": "stream",
     "text": [
      "Epoch 75/100\n",
      "163/163 - 0s - loss: 0.5420 - accuracy: 0.7083 - val_loss: 0.5412 - val_accuracy: 0.7031\n",
      "Epoch 76/100\n",
      "163/163 - 0s - loss: 0.5416 - accuracy: 0.7106 - val_loss: 0.5391 - val_accuracy: 0.7138\n",
      "Epoch 77/100\n",
      "163/163 - 0s - loss: 0.5401 - accuracy: 0.7143 - val_loss: 0.5380 - val_accuracy: 0.7200\n",
      "Epoch 78/100\n",
      "163/163 - 0s - loss: 0.5387 - accuracy: 0.7137 - val_loss: 0.5379 - val_accuracy: 0.7177\n",
      "Epoch 79/100\n",
      "163/163 - 0s - loss: 0.5389 - accuracy: 0.7091 - val_loss: 0.5387 - val_accuracy: 0.7292\n",
      "Epoch 80/100\n",
      "163/163 - 0s - loss: 0.5379 - accuracy: 0.7091 - val_loss: 0.5364 - val_accuracy: 0.7146\n",
      "Epoch 81/100\n",
      "163/163 - 0s - loss: 0.5389 - accuracy: 0.7104 - val_loss: 0.5372 - val_accuracy: 0.7146\n",
      "Epoch 82/100\n",
      "163/163 - 0s - loss: 0.5362 - accuracy: 0.7100 - val_loss: 0.5352 - val_accuracy: 0.7269\n",
      "Epoch 83/100\n",
      "163/163 - 0s - loss: 0.5356 - accuracy: 0.7127 - val_loss: 0.5352 - val_accuracy: 0.7300\n",
      "Epoch 84/100\n",
      "163/163 - 0s - loss: 0.5354 - accuracy: 0.7125 - val_loss: 0.5337 - val_accuracy: 0.7262\n",
      "Epoch 85/100\n",
      "163/163 - 0s - loss: 0.5356 - accuracy: 0.7145 - val_loss: 0.5348 - val_accuracy: 0.7154\n",
      "Epoch 86/100\n",
      "163/163 - 0s - loss: 0.5349 - accuracy: 0.7148 - val_loss: 0.5330 - val_accuracy: 0.7177\n",
      "Epoch 87/100\n",
      "163/163 - 0s - loss: 0.5333 - accuracy: 0.7160 - val_loss: 0.5329 - val_accuracy: 0.7277\n",
      "Epoch 88/100\n",
      "163/163 - 0s - loss: 0.5357 - accuracy: 0.7143 - val_loss: 0.5399 - val_accuracy: 0.7254\n",
      "Epoch 89/100\n",
      "163/163 - 0s - loss: 0.5330 - accuracy: 0.7183 - val_loss: 0.5310 - val_accuracy: 0.7223\n",
      "Epoch 90/100\n",
      "163/163 - 0s - loss: 0.5323 - accuracy: 0.7173 - val_loss: 0.5344 - val_accuracy: 0.7131\n",
      "Epoch 91/100\n",
      "163/163 - 0s - loss: 0.5313 - accuracy: 0.7171 - val_loss: 0.5330 - val_accuracy: 0.7238\n",
      "Epoch 92/100\n",
      "163/163 - 0s - loss: 0.5326 - accuracy: 0.7198 - val_loss: 0.5306 - val_accuracy: 0.7377\n",
      "Epoch 93/100\n",
      "163/163 - 0s - loss: 0.5325 - accuracy: 0.7127 - val_loss: 0.5285 - val_accuracy: 0.7223\n",
      "Epoch 94/100\n",
      "163/163 - 0s - loss: 0.5318 - accuracy: 0.7216 - val_loss: 0.5308 - val_accuracy: 0.7200\n",
      "Epoch 95/100\n",
      "163/163 - 0s - loss: 0.5300 - accuracy: 0.7193 - val_loss: 0.5324 - val_accuracy: 0.7138\n",
      "Epoch 96/100\n",
      "163/163 - 0s - loss: 0.5299 - accuracy: 0.7146 - val_loss: 0.5275 - val_accuracy: 0.7392\n",
      "Epoch 97/100\n",
      "163/163 - 0s - loss: 0.5296 - accuracy: 0.7146 - val_loss: 0.5281 - val_accuracy: 0.7177\n",
      "Epoch 98/100\n",
      "163/163 - 0s - loss: 0.5291 - accuracy: 0.7148 - val_loss: 0.5478 - val_accuracy: 0.6962\n",
      "Epoch 99/100\n",
      "163/163 - 0s - loss: 0.5304 - accuracy: 0.7166 - val_loss: 0.5264 - val_accuracy: 0.7377\n",
      "Epoch 100/100\n",
      "163/163 - 0s - loss: 0.5288 - accuracy: 0.7210 - val_loss: 0.5304 - val_accuracy: 0.7108\n",
      "<tensorflow.python.keras.callbacks.History object at 0x00000215054D2088>\n"
     ]
    }
   ],
   "source": [
    "history = model.fit(X_train, y_train, validation_data=(X_test, y_test),epochs=100, shuffle=True, verbose=2)\n",
    "print(history)"
   ]
  },
  {
   "cell_type": "code",
   "execution_count": 15,
   "id": "40473e48",
   "metadata": {},
   "outputs": [
    {
     "data": {
      "image/png": "[encoded data removed]",
      "text/plain": [
       "<Figure size 1296x720 with 1 Axes>"
      ]
     },
     "metadata": {
      "needs_background": "light"
     },
     "output_type": "display_data"
    }
   ],
   "source": [
    "plt.figure(figsize=(18, 10))\n",
    "plt.plot(history.history['accuracy'])\n",
    "plt.plot(history.history['val_accuracy'])\n",
    "plt.title('model_accuracy')\n",
    "plt.ylabel('accuracy')\n",
    "plt.xlabel('epoch')\n",
    "plt.legend(['train', 'test'], loc='best')\n",
    "plt.show()"
   ]
  },
  {
   "cell_type": "code",
   "execution_count": 16,
   "id": "4836c6b0",
   "metadata": {},
   "outputs": [
    {
     "data": {
      "image/png": "[encoded data removed]",
      "text/plain": [
       "<Figure size 1296x720 with 1 Axes>"
      ]
     },
     "metadata": {
      "needs_background": "light"
     },
     "output_type": "display_data"
    }
   ],
   "source": [
    "plt.figure(figsize=(18, 10))\n",
    "plt.plot(history.history['loss'])\n",
    "plt.plot(history.history['val_loss'])\n",
    "plt.title('model loss')\n",
    "plt.ylabel('loss')\n",
    "plt.xlabel('epoch')\n",
    "plt.legend(['train', 'test'], loc='best')\n",
    "plt.show()"
   ]
  },
  {
   "cell_type": "code",
   "execution_count": 17,
   "id": "7327b44e",
   "metadata": {},
   "outputs": [
    {
     "data": {
      "image/png": "[encoded data removed]",
      "text/plain": [
       "<Figure size 720x288 with 2 Axes>"
      ]
     },
     "metadata": {
      "needs_background": "light"
     },
     "output_type": "display_data"
    }
   ],
   "source": [
    "loss = history.history['loss']\n",
    "accuracy = history.history['accuracy']\n",
    "\n",
    "fig, axs = plt.subplots(nrows=1,ncols=2,figsize=(10,4))\n",
    "axs[0].plot(range(len(loss)), loss)\n",
    "axs[0].set(xlabel=\"Epochs\", ylabel=\"Loss\", title=\"Training loss\")\n",
    "axs[1].plot(range(len(accuracy)), accuracy)\n",
    "axs[1].set(xlabel=\"Epochs\", ylabel=\"Accuracy\", title=\"Training accuracy\")\n",
    "plt.show()"
   ]
  },
  {
   "cell_type": "code",
   "execution_count": 18,
   "id": "b5a85a1b",
   "metadata": {},
   "outputs": [
    {
     "name": "stdout",
     "output_type": "stream",
     "text": [
      "0.5293071866035461 0.719068706035614\n"
     ]
    }
   ],
   "source": [
    "loss_train_score, accuracy_train_score  = model.evaluate(X_train, y_train, verbose=0)\n",
    "print(loss_train_score, accuracy_train_score)"
   ]
  },
  {
   "cell_type": "code",
   "execution_count": 19,
   "id": "72ef2fa1",
   "metadata": {},
   "outputs": [
    {
     "name": "stdout",
     "output_type": "stream",
     "text": [
      "0.530444860458374 0.7107692360877991\n"
     ]
    }
   ],
   "source": [
    "loss_test_score, accuracy_test_score  = model.evaluate(X_test, y_test, verbose=0)\n",
    "print(loss_test_score, accuracy_test_score)"
   ]
  },
  {
   "cell_type": "code",
   "execution_count": 20,
   "id": "5dd7aa52",
   "metadata": {},
   "outputs": [
    {
     "name": "stdout",
     "output_type": "stream",
     "text": [
      "<class 'numpy.ndarray'>\n"
     ]
    },
    {
     "data": {
      "text/plain": [
       "array([[0.69629854],\n",
       "       [0.80366087],\n",
       "       [0.91682506],\n",
       "       ...,\n",
       "       [0.58869046],\n",
       "       [0.37815836],\n",
       "       [0.2707772 ]], dtype=float32)"
      ]
     },
     "execution_count": 20,
     "metadata": {},
     "output_type": "execute_result"
    }
   ],
   "source": [
    "predictions = model.predict(X_test)\n",
    "print(type(predictions))\n",
    "predictions"
   ]
  },
  {
   "cell_type": "code",
   "execution_count": 21,
   "id": "4cef26be",
   "metadata": {},
   "outputs": [
    {
     "name": "stdout",
     "output_type": "stream",
     "text": [
      "<class 'numpy.ndarray'>\n"
     ]
    }
   ],
   "source": [
    "print(type(y_test))"
   ]
  },
  {
   "cell_type": "code",
   "execution_count": 22,
   "id": "546eca07",
   "metadata": {},
   "outputs": [
    {
     "ename": "AttributeError",
     "evalue": "'numpy.ndarray' object has no attribute 'to_numpy'",
     "output_type": "error",
     "traceback": [
      "\u001b[1;31m---------------------------------------------------------------------------\u001b[0m",
      "\u001b[1;31mAttributeError\u001b[0m                            Traceback (most recent call last)",
      "\u001b[1;32m~\\AppData\\Local\\Temp/ipykernel_13384/911319831.py\u001b[0m in \u001b[0;36m<module>\u001b[1;34m\u001b[0m\n\u001b[1;32m----> 1\u001b[1;33m \u001b[0my_test_cm\u001b[0m \u001b[1;33m=\u001b[0m \u001b[0my_test\u001b[0m\u001b[1;33m.\u001b[0m\u001b[0mto_numpy\u001b[0m\u001b[1;33m(\u001b[0m\u001b[1;33m)\u001b[0m\u001b[1;33m\u001b[0m\u001b[1;33m\u001b[0m\u001b[0m\n\u001b[0m",
      "\u001b[1;31mAttributeError\u001b[0m: 'numpy.ndarray' object has no attribute 'to_numpy'"
     ]
    }
   ],
   "source": [
    "y_test_cm = y_test.to_numpy()"
   ]
  },
  {
   "cell_type": "code",
   "execution_count": null,
   "id": "fa6508bd",
   "metadata": {},
   "outputs": [],
   "source": [
    "print(y_test_cm.shape)\n",
    "print(predictions.shape)"
   ]
  },
  {
   "cell_type": "code",
   "execution_count": null,
   "id": "10801b3d",
   "metadata": {},
   "outputs": [],
   "source": [
    "confusion_matrix(y_test_cm.argmax(axis=1), predictions.argmax(axis=1))"
   ]
  },
  {
   "cell_type": "code",
   "execution_count": null,
   "id": "324796c4",
   "metadata": {},
   "outputs": [],
   "source": [
    "conf_matrix = tf.math.confusion_matrix(labels=y_test_cm.argmax(axis=1),\n",
    "                                       predictions=predictions.argmax(axis=1))"
   ]
  },
  {
   "cell_type": "code",
   "execution_count": null,
   "id": "ae2adb79",
   "metadata": {},
   "outputs": [],
   "source": [
    "conf_matrix"
   ]
  },
  {
   "cell_type": "code",
   "execution_count": null,
   "id": "0de71356",
   "metadata": {},
   "outputs": [],
   "source": [
    "plot_confusion_matrix(model, X_test, y_test)"
   ]
  },
  {
   "cell_type": "code",
   "execution_count": null,
   "id": "1cd572e0",
   "metadata": {},
   "outputs": [],
   "source": [
    "labels = ['3',\"4\",\"5\",\"6\",\"7\",\"8\",\"9\"]"
   ]
  },
  {
   "cell_type": "code",
   "execution_count": null,
   "id": "f60d8674",
   "metadata": {},
   "outputs": [],
   "source": [
    "\n",
    "disp = ConfusionMatrixDisplay(confusion_matrix=conf_matrix, display_labels=labels)\n",
    "\n",
    "disp.plot(cmap=plt.cm.Blues)\n",
    "plt.show()"
   ]
  },
  {
   "cell_type": "code",
   "execution_count": null,
   "id": "1a3f09de",
   "metadata": {},
   "outputs": [],
   "source": [
    "plt.imshow(conf_matrix, cmap=plt.cm.Blues)\n",
    "plt.xlabel(labels)\n",
    "plt.ylabel(\"True labels\")\n",
    "plt.xticks([], [])\n",
    "plt.yticks([], [])\n",
    "plt.title('Confusion matrix ')\n",
    "plt.colorbar()\n",
    "plt.show()"
   ]
  },
  {
   "cell_type": "code",
   "execution_count": null,
   "id": "f8cb6da7",
   "metadata": {},
   "outputs": [],
   "source": [
    "# # Accuracy calculated using Keras' method\n",
    "# metric = tf.keras.metrics.Accuracy()\n",
    "# metric.update_state(yTrue,yPred)\n",
    "# metric.result().numpy("
   ]
  },
  {
   "cell_type": "code",
   "execution_count": null,
   "id": "9272a257",
   "metadata": {},
   "outputs": [],
   "source": [
    "# model = Sequential()\n",
    "# model.add(Flatten())\n",
    "# model.add(Dense(units=class_num,activation='softmax'))\n",
    "# model.compile(loss='categorical_crossentropy', optimizer='adam',               \n",
    "#               metrics=['accuracy'])\n",
    "# history = model.fit(X_train, y_train, validation_data=(X_test, y_test), epochs=800, shuffle=False, verbose=0)\n",
    "# print(history)\n",
    "# loss_train_score, accuracy_train_score  = model.evaluate(X_train, y_train, verbose=0)\n",
    "# print(loss_train_score, accuracy_train_score)\n",
    "# loss_test_score, accuracy_test_score  = model.evaluate(X_test, y_test, verbose=0)\n",
    "# print(loss_test_score, accuracy_test_score)"
   ]
  },
  {
   "cell_type": "code",
   "execution_count": null,
   "id": "d77b48ef",
   "metadata": {},
   "outputs": [],
   "source": []
  }
 ],
 "metadata": {
  "kernelspec": {
   "display_name": "tf_2_wine",
   "language": "python",
   "name": "tf_2_wine"
  },
  "language_info": {
   "codemirror_mode": {
    "name": "ipython",
    "version": 3
   },
   "file_extension": ".py",
   "mimetype": "text/x-python",
   "name": "python",
   "nbconvert_exporter": "python",
   "pygments_lexer": "ipython3",
   "version": "3.7.11"
  }
 },
 "nbformat": 4,
 "nbformat_minor": 5
}
