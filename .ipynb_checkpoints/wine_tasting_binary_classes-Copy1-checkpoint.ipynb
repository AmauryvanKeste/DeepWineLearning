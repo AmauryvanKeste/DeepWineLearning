{
 "cells": [
  {
   "cell_type": "code",
   "execution_count": 1,
   "id": "282e0358",
   "metadata": {},
   "outputs": [
    {
     "name": "stderr",
     "output_type": "stream",
     "text": [
      "Using TensorFlow backend.\n"
     ]
    }
   ],
   "source": [
    "import numpy as np\n",
    "import pandas as pd\n",
    "import tensorflow as tf\n",
    "from tensorflow import keras\n",
    "from tensorflow.keras import Sequential\n",
    "from tensorflow.keras.layers import Conv2D, Flatten, Dense\n",
    "from keras.optimizers import Adam \n",
    "from keras.utils import to_categorical\n",
    "import matplotlib.pyplot as plt\n",
    "from sklearn.model_selection import train_test_split\n",
    "from sklearn.preprocessing import StandardScaler\n",
    "from sklearn.metrics import confusion_matrix\n",
    "from sklearn.metrics import plot_confusion_matrix\n",
    "from sklearn.metrics import ConfusionMatrixDisplay\n",
    "import keras_tuner as kt\n",
    "\n",
    "%matplotlib inline"
   ]
  },
  {
   "cell_type": "code",
   "execution_count": 2,
   "id": "beb2fbb5",
   "metadata": {},
   "outputs": [],
   "source": [
    "filepath = \"datasets/wine.csv\"\n",
    "df = pd.read_csv(filepath)\n",
    "df = df.drop(\"index\", axis = 1)\n",
    "df = df.sample(frac=1, random_state = 42, ignore_index=True)"
   ]
  },
  {
   "cell_type": "code",
   "execution_count": 3,
   "id": "21badf62",
   "metadata": {},
   "outputs": [],
   "source": [
    "df['goodquality'] = [1 if x >= 6 else 0 for x in df['quality']]\n",
    "df = df.drop(columns=['quality'])"
   ]
  },
  {
   "cell_type": "code",
   "execution_count": 4,
   "id": "cd8a3bba",
   "metadata": {},
   "outputs": [
    {
     "data": {
      "text/plain": [
       "(6497, 1)"
      ]
     },
     "execution_count": 4,
     "metadata": {},
     "output_type": "execute_result"
    }
   ],
   "source": [
    "X = df.drop(\"goodquality\", axis=1)\n",
    "y = df[\"goodquality\"]\n",
    "y = np.asarray(y).astype('int32').reshape((-1,1))\n",
    "y.shape"
   ]
  },
  {
   "cell_type": "code",
   "execution_count": 11,
   "id": "0b73db62",
   "metadata": {},
   "outputs": [],
   "source": [
    "def build_model(hp):\n",
    "    model = keras.Sequential()\n",
    "    for i in range(hp.Int('num_layers', 2, 20)):\n",
    "        model.add(Dense(units=hp.Int('units_' + str(i),\n",
    "                                            min_value=2,\n",
    "                                            max_value=40,\n",
    "                                            step=1),\n",
    "                               activation='SGD'))\n",
    "    model.add(Dense(1, activation='sigmoid'))\n",
    "    model.compile(\n",
    "        optimizer=keras.optimizers.Adam(\n",
    "            hp.Choice('learning_rate', [1e-2, 1e-3])),\n",
    "        loss='binary_crossentropy',\n",
    "        metrics=['accuracy'])\n",
    "    return model"
   ]
  },
  {
   "cell_type": "code",
   "execution_count": 12,
   "id": "ac90ecec",
   "metadata": {},
   "outputs": [],
   "source": [
    "directory = r'C:\\Users\\Amaury\\Documents\\Wine'"
   ]
  },
  {
   "cell_type": "code",
   "execution_count": 13,
   "id": "8b4809ac",
   "metadata": {},
   "outputs": [],
   "source": [
    "tuner = kt.RandomSearch(\n",
    "    build_model,\n",
    "    objective='val_accuracy',\n",
    "    max_trials=5,\n",
    "    executions_per_trial=3,\n",
    "    directory=directory,\n",
    "    project_name='Wine_binary')"
   ]
  },
  {
   "cell_type": "code",
   "execution_count": 14,
   "id": "b071be9b",
   "metadata": {},
   "outputs": [
    {
     "name": "stdout",
     "output_type": "stream",
     "text": [
      "(5197, 11)\n",
      "(1300, 11)\n",
      "(5197, 1)\n",
      "(1300, 1)\n",
      "(5197, 11)\n",
      "(1300, 11)\n"
     ]
    }
   ],
   "source": [
    "X_train, X_test, y_train, y_test = train_test_split(X, y, test_size = 0.2, stratify=y, random_state = 10, shuffle=True)\n",
    "print(X_train.shape)\n",
    "print(X_test.shape)\n",
    "print(y_train.shape)\n",
    "print(y_test.shape)\n",
    "X_train = tf.keras.utils.normalize(X_train, axis=1)\n",
    "X_test = tf.keras.utils.normalize(X_test, axis=1)\n",
    "print(X_train.shape)\n",
    "print(X_test.shape)"
   ]
  },
  {
   "cell_type": "code",
   "execution_count": 15,
   "id": "76e1f4ed",
   "metadata": {},
   "outputs": [],
   "source": [
    "stop_early = tf.keras.callbacks.EarlyStopping(monitor='val_accuracy', patience=5)"
   ]
  },
  {
   "cell_type": "code",
   "execution_count": 16,
   "id": "46702e45",
   "metadata": {},
   "outputs": [
    {
     "name": "stdout",
     "output_type": "stream",
     "text": [
      "Trial 5 Complete [00h 01m 31s]\n",
      "val_accuracy: 0.6330769062042236\n",
      "\n",
      "Best val_accuracy So Far: 0.75\n",
      "Total elapsed time: 00h 07m 33s\n",
      "INFO:tensorflow:Oracle triggered exit\n"
     ]
    }
   ],
   "source": [
    "tuner.search(X_train, y_train,\n",
    "             epochs=100,\n",
    "             validation_data=(X_test, y_test), callbacks=[stop_early])"
   ]
  },
  {
   "cell_type": "code",
   "execution_count": 17,
   "id": "982e28f7",
   "metadata": {},
   "outputs": [
    {
     "name": "stdout",
     "output_type": "stream",
     "text": [
      "Results summary\n",
      "Results in C:\\Users\\Amaury\\Documents\\Wine\\Wine_binary\n",
      "Showing 10 best trials\n",
      "Objective(name='val_accuracy', direction='max')\n",
      "Trial summary\n",
      "Hyperparameters:\n",
      "num_layers: 12\n",
      "units_0: 11\n",
      "units_1: 14\n",
      "learning_rate: 0.001\n",
      "units_2: 37\n",
      "units_3: 19\n",
      "units_4: 20\n",
      "units_5: 18\n",
      "units_6: 5\n",
      "units_7: 5\n",
      "units_8: 30\n",
      "units_9: 28\n",
      "units_10: 37\n",
      "units_11: 14\n",
      "units_12: 5\n",
      "units_13: 13\n",
      "units_14: 35\n",
      "units_15: 19\n",
      "units_16: 16\n",
      "units_17: 32\n",
      "Score: 0.75\n",
      "Trial summary\n",
      "Hyperparameters:\n",
      "num_layers: 17\n",
      "units_0: 8\n",
      "units_1: 12\n",
      "learning_rate: 0.001\n",
      "units_2: 7\n",
      "units_3: 21\n",
      "units_4: 30\n",
      "units_5: 10\n",
      "units_6: 32\n",
      "units_7: 8\n",
      "units_8: 17\n",
      "units_9: 5\n",
      "units_10: 10\n",
      "units_11: 5\n",
      "units_12: 18\n",
      "units_13: 37\n",
      "units_14: 23\n",
      "units_15: 31\n",
      "units_16: 16\n",
      "units_17: 9\n",
      "Score: 0.6643589536348978\n",
      "Trial summary\n",
      "Hyperparameters:\n",
      "num_layers: 18\n",
      "units_0: 5\n",
      "units_1: 39\n",
      "learning_rate: 0.01\n",
      "units_2: 2\n",
      "units_3: 2\n",
      "units_4: 2\n",
      "units_5: 2\n",
      "units_6: 2\n",
      "units_7: 2\n",
      "units_8: 2\n",
      "units_9: 2\n",
      "units_10: 2\n",
      "units_11: 2\n",
      "units_12: 2\n",
      "units_13: 2\n",
      "units_14: 2\n",
      "units_15: 2\n",
      "units_16: 2\n",
      "units_17: 2\n",
      "Score: 0.6330769062042236\n",
      "Trial summary\n",
      "Hyperparameters:\n",
      "num_layers: 8\n",
      "units_0: 17\n",
      "units_1: 8\n",
      "learning_rate: 0.01\n",
      "units_2: 8\n",
      "units_3: 39\n",
      "units_4: 38\n",
      "units_5: 35\n",
      "units_6: 29\n",
      "units_7: 11\n",
      "units_8: 7\n",
      "units_9: 13\n",
      "units_10: 38\n",
      "units_11: 33\n",
      "units_12: 20\n",
      "units_13: 3\n",
      "units_14: 11\n",
      "units_15: 36\n",
      "units_16: 33\n",
      "units_17: 11\n",
      "Score: 0.6330769062042236\n",
      "Trial summary\n",
      "Hyperparameters:\n",
      "num_layers: 15\n",
      "units_0: 37\n",
      "units_1: 22\n",
      "learning_rate: 0.01\n",
      "units_2: 21\n",
      "units_3: 4\n",
      "units_4: 39\n",
      "units_5: 36\n",
      "units_6: 24\n",
      "units_7: 4\n",
      "units_8: 38\n",
      "units_9: 24\n",
      "units_10: 22\n",
      "units_11: 14\n",
      "units_12: 18\n",
      "units_13: 21\n",
      "units_14: 20\n",
      "units_15: 27\n",
      "units_16: 24\n",
      "units_17: 5\n",
      "Score: 0.6330769062042236\n"
     ]
    }
   ],
   "source": [
    "tuner.results_summary()"
   ]
  },
  {
   "cell_type": "code",
   "execution_count": 25,
   "id": "1c719661",
   "metadata": {},
   "outputs": [],
   "source": [
    "model = Sequential()\n",
    "model.add(Dense(units=12, activation='relu'))\n",
    "model.add(Dense(units=8, activation='relu'))\n",
    "model.add(Dense(units=1,activation='sigmoid'))"
   ]
  },
  {
   "cell_type": "code",
   "execution_count": 26,
   "id": "aae14615",
   "metadata": {},
   "outputs": [],
   "source": [
    "model.compile(loss='binary_crossentropy', optimizer='adam',               \n",
    "              metrics=['accuracy'])"
   ]
  },
  {
   "cell_type": "code",
   "execution_count": 27,
   "id": "da422275",
   "metadata": {},
   "outputs": [
    {
     "name": "stdout",
     "output_type": "stream",
     "text": [
      "Epoch 1/100\n",
      "WARNING:tensorflow:Layer dense_13 is casting an input tensor from dtype float64 to the layer's dtype of float32, which is new behavior in TensorFlow 2.  The layer has dtype float32 because its dtype defaults to floatx.\n",
      "\n",
      "If you intended to run this layer in float32, you can safely ignore this warning. If in doubt, this warning is likely only an issue if you are porting a TensorFlow 1.X model to TensorFlow 2.\n",
      "\n",
      "To change all layers to have dtype float64 by default, call `tf.keras.backend.set_floatx('float64')`. To change just this layer, pass dtype='float64' to the layer constructor. If you are the author of this layer, you can disable autocasting by passing autocast=False to the base Layer constructor.\n",
      "\n",
      "163/163 - 0s - loss: 0.6626 - accuracy: 0.6331 - val_loss: 0.6565 - val_accuracy: 0.6331\n",
      "Epoch 2/100\n",
      "163/163 - 0s - loss: 0.6553 - accuracy: 0.6331 - val_loss: 0.6554 - val_accuracy: 0.6331\n",
      "Epoch 3/100\n",
      "163/163 - 0s - loss: 0.6542 - accuracy: 0.6331 - val_loss: 0.6544 - val_accuracy: 0.6331\n",
      "Epoch 4/100\n",
      "163/163 - 0s - loss: 0.6529 - accuracy: 0.6331 - val_loss: 0.6529 - val_accuracy: 0.6331\n",
      "Epoch 5/100\n",
      "163/163 - 0s - loss: 0.6517 - accuracy: 0.6331 - val_loss: 0.6516 - val_accuracy: 0.6331\n",
      "Epoch 6/100\n",
      "163/163 - 0s - loss: 0.6502 - accuracy: 0.6331 - val_loss: 0.6503 - val_accuracy: 0.6331\n",
      "Epoch 7/100\n",
      "163/163 - 0s - loss: 0.6485 - accuracy: 0.6331 - val_loss: 0.6491 - val_accuracy: 0.6331\n",
      "Epoch 8/100\n",
      "163/163 - 0s - loss: 0.6477 - accuracy: 0.6331 - val_loss: 0.6476 - val_accuracy: 0.6331\n",
      "Epoch 9/100\n",
      "163/163 - 0s - loss: 0.6460 - accuracy: 0.6331 - val_loss: 0.6464 - val_accuracy: 0.6331\n",
      "Epoch 10/100\n",
      "163/163 - 0s - loss: 0.6448 - accuracy: 0.6331 - val_loss: 0.6452 - val_accuracy: 0.6331\n",
      "Epoch 11/100\n",
      "163/163 - 0s - loss: 0.6435 - accuracy: 0.6331 - val_loss: 0.6443 - val_accuracy: 0.6331\n",
      "Epoch 12/100\n",
      "163/163 - 0s - loss: 0.6425 - accuracy: 0.6331 - val_loss: 0.6435 - val_accuracy: 0.6331\n",
      "Epoch 13/100\n",
      "163/163 - 0s - loss: 0.6419 - accuracy: 0.6331 - val_loss: 0.6428 - val_accuracy: 0.6331\n",
      "Epoch 14/100\n",
      "163/163 - 0s - loss: 0.6414 - accuracy: 0.6331 - val_loss: 0.6425 - val_accuracy: 0.6331\n",
      "Epoch 15/100\n",
      "163/163 - 0s - loss: 0.6409 - accuracy: 0.6331 - val_loss: 0.6422 - val_accuracy: 0.6331\n",
      "Epoch 16/100\n",
      "163/163 - 0s - loss: 0.6399 - accuracy: 0.6331 - val_loss: 0.6409 - val_accuracy: 0.6331\n",
      "Epoch 17/100\n",
      "163/163 - 0s - loss: 0.6389 - accuracy: 0.6425 - val_loss: 0.6410 - val_accuracy: 0.6392\n",
      "Epoch 18/100\n",
      "163/163 - 0s - loss: 0.6388 - accuracy: 0.6442 - val_loss: 0.6397 - val_accuracy: 0.6469\n",
      "Epoch 19/100\n",
      "163/163 - 0s - loss: 0.6379 - accuracy: 0.6459 - val_loss: 0.6390 - val_accuracy: 0.6515\n",
      "Epoch 20/100\n",
      "163/163 - 0s - loss: 0.6372 - accuracy: 0.6467 - val_loss: 0.6382 - val_accuracy: 0.6531\n",
      "Epoch 21/100\n",
      "163/163 - 0s - loss: 0.6362 - accuracy: 0.6490 - val_loss: 0.6376 - val_accuracy: 0.6515\n",
      "Epoch 22/100\n",
      "163/163 - 0s - loss: 0.6362 - accuracy: 0.6481 - val_loss: 0.6367 - val_accuracy: 0.6562\n",
      "Epoch 23/100\n",
      "163/163 - 0s - loss: 0.6347 - accuracy: 0.6513 - val_loss: 0.6359 - val_accuracy: 0.6562\n",
      "Epoch 24/100\n",
      "163/163 - 0s - loss: 0.6342 - accuracy: 0.6529 - val_loss: 0.6351 - val_accuracy: 0.6546\n",
      "Epoch 25/100\n",
      "163/163 - 0s - loss: 0.6330 - accuracy: 0.6492 - val_loss: 0.6339 - val_accuracy: 0.6569\n",
      "Epoch 26/100\n",
      "163/163 - 0s - loss: 0.6321 - accuracy: 0.6533 - val_loss: 0.6333 - val_accuracy: 0.6538\n",
      "Epoch 27/100\n",
      "163/163 - 0s - loss: 0.6312 - accuracy: 0.6542 - val_loss: 0.6318 - val_accuracy: 0.6585\n",
      "Epoch 28/100\n",
      "163/163 - 0s - loss: 0.6300 - accuracy: 0.6556 - val_loss: 0.6316 - val_accuracy: 0.6538\n",
      "Epoch 29/100\n",
      "163/163 - 0s - loss: 0.6288 - accuracy: 0.6583 - val_loss: 0.6296 - val_accuracy: 0.6577\n",
      "Epoch 30/100\n",
      "163/163 - 0s - loss: 0.6271 - accuracy: 0.6581 - val_loss: 0.6312 - val_accuracy: 0.6515\n",
      "Epoch 31/100\n",
      "163/163 - 0s - loss: 0.6260 - accuracy: 0.6596 - val_loss: 0.6276 - val_accuracy: 0.6623\n",
      "Epoch 32/100\n",
      "163/163 - 0s - loss: 0.6247 - accuracy: 0.6573 - val_loss: 0.6260 - val_accuracy: 0.6646\n",
      "Epoch 33/100\n",
      "163/163 - 0s - loss: 0.6232 - accuracy: 0.6596 - val_loss: 0.6276 - val_accuracy: 0.6738\n",
      "Epoch 34/100\n",
      "163/163 - 0s - loss: 0.6212 - accuracy: 0.6606 - val_loss: 0.6231 - val_accuracy: 0.6631\n",
      "Epoch 35/100\n",
      "163/163 - 0s - loss: 0.6200 - accuracy: 0.6625 - val_loss: 0.6208 - val_accuracy: 0.6631\n",
      "Epoch 36/100\n",
      "163/163 - 0s - loss: 0.6188 - accuracy: 0.6617 - val_loss: 0.6191 - val_accuracy: 0.6662\n",
      "Epoch 37/100\n",
      "163/163 - 0s - loss: 0.6166 - accuracy: 0.6617 - val_loss: 0.6177 - val_accuracy: 0.6662\n",
      "Epoch 38/100\n",
      "163/163 - 0s - loss: 0.6149 - accuracy: 0.6642 - val_loss: 0.6156 - val_accuracy: 0.6654\n",
      "Epoch 39/100\n",
      "163/163 - 0s - loss: 0.6136 - accuracy: 0.6631 - val_loss: 0.6149 - val_accuracy: 0.6738\n",
      "Epoch 40/100\n",
      "163/163 - 0s - loss: 0.6103 - accuracy: 0.6681 - val_loss: 0.6135 - val_accuracy: 0.6654\n",
      "Epoch 41/100\n",
      "163/163 - 0s - loss: 0.6090 - accuracy: 0.6690 - val_loss: 0.6101 - val_accuracy: 0.6692\n",
      "Epoch 42/100\n",
      "163/163 - 0s - loss: 0.6071 - accuracy: 0.6746 - val_loss: 0.6083 - val_accuracy: 0.6654\n",
      "Epoch 43/100\n",
      "163/163 - 0s - loss: 0.6046 - accuracy: 0.6742 - val_loss: 0.6070 - val_accuracy: 0.6677\n",
      "Epoch 44/100\n",
      "163/163 - 0s - loss: 0.6032 - accuracy: 0.6731 - val_loss: 0.6043 - val_accuracy: 0.6792\n",
      "Epoch 45/100\n",
      "163/163 - 0s - loss: 0.6013 - accuracy: 0.6794 - val_loss: 0.6023 - val_accuracy: 0.6815\n",
      "Epoch 46/100\n",
      "163/163 - 0s - loss: 0.5992 - accuracy: 0.6752 - val_loss: 0.6013 - val_accuracy: 0.6731\n",
      "Epoch 47/100\n",
      "163/163 - 0s - loss: 0.5970 - accuracy: 0.6785 - val_loss: 0.5984 - val_accuracy: 0.6815\n",
      "Epoch 48/100\n",
      "163/163 - 0s - loss: 0.5960 - accuracy: 0.6810 - val_loss: 0.5969 - val_accuracy: 0.6846\n",
      "Epoch 49/100\n",
      "163/163 - 0s - loss: 0.5930 - accuracy: 0.6831 - val_loss: 0.5955 - val_accuracy: 0.6915\n",
      "Epoch 50/100\n",
      "163/163 - 0s - loss: 0.5916 - accuracy: 0.6835 - val_loss: 0.5938 - val_accuracy: 0.6777\n",
      "Epoch 51/100\n",
      "163/163 - 0s - loss: 0.5897 - accuracy: 0.6844 - val_loss: 0.5913 - val_accuracy: 0.6838\n",
      "Epoch 52/100\n",
      "163/163 - 0s - loss: 0.5883 - accuracy: 0.6864 - val_loss: 0.5895 - val_accuracy: 0.6854\n",
      "Epoch 53/100\n",
      "163/163 - 0s - loss: 0.5870 - accuracy: 0.6848 - val_loss: 0.5894 - val_accuracy: 0.6785\n",
      "Epoch 54/100\n",
      "163/163 - 0s - loss: 0.5869 - accuracy: 0.6821 - val_loss: 0.5871 - val_accuracy: 0.6900\n",
      "Epoch 55/100\n",
      "163/163 - 0s - loss: 0.5837 - accuracy: 0.6889 - val_loss: 0.5910 - val_accuracy: 0.6777\n",
      "Epoch 56/100\n",
      "163/163 - 0s - loss: 0.5824 - accuracy: 0.6894 - val_loss: 0.5833 - val_accuracy: 0.6892\n",
      "Epoch 57/100\n",
      "163/163 - 0s - loss: 0.5797 - accuracy: 0.6910 - val_loss: 0.5866 - val_accuracy: 0.6862\n",
      "Epoch 58/100\n",
      "163/163 - 0s - loss: 0.5813 - accuracy: 0.6939 - val_loss: 0.5805 - val_accuracy: 0.6915\n",
      "Epoch 59/100\n",
      "163/163 - 0s - loss: 0.5793 - accuracy: 0.6937 - val_loss: 0.5793 - val_accuracy: 0.6908\n",
      "Epoch 60/100\n",
      "163/163 - 0s - loss: 0.5775 - accuracy: 0.6998 - val_loss: 0.5781 - val_accuracy: 0.6938\n",
      "Epoch 61/100\n",
      "163/163 - 0s - loss: 0.5777 - accuracy: 0.6921 - val_loss: 0.5823 - val_accuracy: 0.6823\n",
      "Epoch 62/100\n",
      "163/163 - 0s - loss: 0.5757 - accuracy: 0.6925 - val_loss: 0.5758 - val_accuracy: 0.6885\n",
      "Epoch 63/100\n",
      "163/163 - 0s - loss: 0.5784 - accuracy: 0.6939 - val_loss: 0.5751 - val_accuracy: 0.6938\n",
      "Epoch 64/100\n",
      "163/163 - 0s - loss: 0.5737 - accuracy: 0.6927 - val_loss: 0.5745 - val_accuracy: 0.6962\n",
      "Epoch 65/100\n",
      "163/163 - 0s - loss: 0.5723 - accuracy: 0.6952 - val_loss: 0.5735 - val_accuracy: 0.6938\n",
      "Epoch 66/100\n",
      "163/163 - 0s - loss: 0.5728 - accuracy: 0.6992 - val_loss: 0.5727 - val_accuracy: 0.6923\n",
      "Epoch 67/100\n",
      "163/163 - 0s - loss: 0.5725 - accuracy: 0.6964 - val_loss: 0.5711 - val_accuracy: 0.6946\n",
      "Epoch 68/100\n",
      "163/163 - 0s - loss: 0.5710 - accuracy: 0.6975 - val_loss: 0.5702 - val_accuracy: 0.6938\n",
      "Epoch 69/100\n",
      "163/163 - 0s - loss: 0.5707 - accuracy: 0.6983 - val_loss: 0.5681 - val_accuracy: 0.6931\n",
      "Epoch 70/100\n",
      "163/163 - 0s - loss: 0.5691 - accuracy: 0.6973 - val_loss: 0.5673 - val_accuracy: 0.6908\n",
      "Epoch 71/100\n",
      "163/163 - 0s - loss: 0.5679 - accuracy: 0.6977 - val_loss: 0.5677 - val_accuracy: 0.6946\n",
      "Epoch 72/100\n",
      "163/163 - 0s - loss: 0.5674 - accuracy: 0.6991 - val_loss: 0.5655 - val_accuracy: 0.6915\n",
      "Epoch 73/100\n",
      "163/163 - 0s - loss: 0.5659 - accuracy: 0.6992 - val_loss: 0.5640 - val_accuracy: 0.6923\n",
      "Epoch 74/100\n",
      "163/163 - 0s - loss: 0.5662 - accuracy: 0.7002 - val_loss: 0.5625 - val_accuracy: 0.6962\n"
     ]
    },
    {
     "name": "stdout",
     "output_type": "stream",
     "text": [
      "Epoch 75/100\n",
      "163/163 - 0s - loss: 0.5640 - accuracy: 0.6979 - val_loss: 0.5608 - val_accuracy: 0.6969\n",
      "Epoch 76/100\n",
      "163/163 - 0s - loss: 0.5632 - accuracy: 0.7039 - val_loss: 0.5593 - val_accuracy: 0.6915\n",
      "Epoch 77/100\n",
      "163/163 - 0s - loss: 0.5617 - accuracy: 0.7029 - val_loss: 0.5649 - val_accuracy: 0.7023\n",
      "Epoch 78/100\n",
      "163/163 - 0s - loss: 0.5631 - accuracy: 0.7014 - val_loss: 0.5662 - val_accuracy: 0.6908\n",
      "Epoch 79/100\n",
      "163/163 - 0s - loss: 0.5599 - accuracy: 0.7054 - val_loss: 0.5562 - val_accuracy: 0.6931\n",
      "Epoch 80/100\n",
      "163/163 - 0s - loss: 0.5614 - accuracy: 0.7025 - val_loss: 0.5572 - val_accuracy: 0.6938\n",
      "Epoch 81/100\n",
      "163/163 - 0s - loss: 0.5584 - accuracy: 0.7014 - val_loss: 0.5550 - val_accuracy: 0.7085\n",
      "Epoch 82/100\n",
      "163/163 - 0s - loss: 0.5586 - accuracy: 0.7027 - val_loss: 0.5551 - val_accuracy: 0.6954\n",
      "Epoch 83/100\n",
      "163/163 - 0s - loss: 0.5585 - accuracy: 0.7073 - val_loss: 0.5585 - val_accuracy: 0.6908\n",
      "Epoch 84/100\n",
      "163/163 - 0s - loss: 0.5573 - accuracy: 0.7041 - val_loss: 0.5511 - val_accuracy: 0.7077\n",
      "Epoch 85/100\n",
      "163/163 - 0s - loss: 0.5553 - accuracy: 0.7077 - val_loss: 0.5497 - val_accuracy: 0.7031\n",
      "Epoch 86/100\n",
      "163/163 - 0s - loss: 0.5538 - accuracy: 0.7069 - val_loss: 0.5495 - val_accuracy: 0.7115\n",
      "Epoch 87/100\n",
      "163/163 - 0s - loss: 0.5529 - accuracy: 0.7083 - val_loss: 0.5489 - val_accuracy: 0.7015\n",
      "Epoch 88/100\n",
      "163/163 - 0s - loss: 0.5532 - accuracy: 0.7085 - val_loss: 0.5495 - val_accuracy: 0.7162\n",
      "Epoch 89/100\n",
      "163/163 - 0s - loss: 0.5514 - accuracy: 0.7073 - val_loss: 0.5455 - val_accuracy: 0.7131\n",
      "Epoch 90/100\n",
      "163/163 - 0s - loss: 0.5517 - accuracy: 0.7141 - val_loss: 0.5456 - val_accuracy: 0.7100\n",
      "Epoch 91/100\n",
      "163/163 - 0s - loss: 0.5485 - accuracy: 0.7119 - val_loss: 0.5443 - val_accuracy: 0.7115\n",
      "Epoch 92/100\n",
      "163/163 - 0s - loss: 0.5487 - accuracy: 0.7195 - val_loss: 0.5502 - val_accuracy: 0.6946\n",
      "Epoch 93/100\n",
      "163/163 - 0s - loss: 0.5465 - accuracy: 0.7135 - val_loss: 0.5442 - val_accuracy: 0.6977\n",
      "Epoch 94/100\n",
      "163/163 - 0s - loss: 0.5455 - accuracy: 0.7181 - val_loss: 0.5471 - val_accuracy: 0.6954\n",
      "Epoch 95/100\n",
      "163/163 - 0s - loss: 0.5471 - accuracy: 0.7146 - val_loss: 0.5429 - val_accuracy: 0.6985\n",
      "Epoch 96/100\n",
      "163/163 - 0s - loss: 0.5441 - accuracy: 0.7141 - val_loss: 0.5429 - val_accuracy: 0.7138\n",
      "Epoch 97/100\n",
      "163/163 - 0s - loss: 0.5459 - accuracy: 0.7231 - val_loss: 0.5394 - val_accuracy: 0.7092\n",
      "Epoch 98/100\n",
      "163/163 - 0s - loss: 0.5447 - accuracy: 0.7156 - val_loss: 0.5381 - val_accuracy: 0.7131\n",
      "Epoch 99/100\n",
      "163/163 - 0s - loss: 0.5415 - accuracy: 0.7214 - val_loss: 0.5373 - val_accuracy: 0.7138\n",
      "Epoch 100/100\n",
      "163/163 - 0s - loss: 0.5411 - accuracy: 0.7181 - val_loss: 0.5411 - val_accuracy: 0.7269\n",
      "<tensorflow.python.keras.callbacks.History object at 0x000001C1A8544048>\n"
     ]
    }
   ],
   "source": [
    "history = model.fit(X_train, y_train, validation_data=(X_test, y_test),epochs=100, shuffle=True, verbose=2)\n",
    "print(history)"
   ]
  },
  {
   "cell_type": "code",
   "execution_count": 23,
   "id": "40473e48",
   "metadata": {},
   "outputs": [
    {
     "ename": "NameError",
     "evalue": "name 'history' is not defined",
     "output_type": "error",
     "traceback": [
      "\u001b[1;31m---------------------------------------------------------------------------\u001b[0m",
      "\u001b[1;31mNameError\u001b[0m                                 Traceback (most recent call last)",
      "\u001b[1;32m~\\AppData\\Local\\Temp/ipykernel_4816/616043088.py\u001b[0m in \u001b[0;36m<module>\u001b[1;34m\u001b[0m\n\u001b[0;32m      1\u001b[0m \u001b[0mplt\u001b[0m\u001b[1;33m.\u001b[0m\u001b[0mfigure\u001b[0m\u001b[1;33m(\u001b[0m\u001b[0mfigsize\u001b[0m\u001b[1;33m=\u001b[0m\u001b[1;33m(\u001b[0m\u001b[1;36m18\u001b[0m\u001b[1;33m,\u001b[0m \u001b[1;36m10\u001b[0m\u001b[1;33m)\u001b[0m\u001b[1;33m)\u001b[0m\u001b[1;33m\u001b[0m\u001b[1;33m\u001b[0m\u001b[0m\n\u001b[1;32m----> 2\u001b[1;33m \u001b[0mplt\u001b[0m\u001b[1;33m.\u001b[0m\u001b[0mplot\u001b[0m\u001b[1;33m(\u001b[0m\u001b[0mhistory\u001b[0m\u001b[1;33m.\u001b[0m\u001b[0mhistory\u001b[0m\u001b[1;33m[\u001b[0m\u001b[1;34m'accuracy'\u001b[0m\u001b[1;33m]\u001b[0m\u001b[1;33m)\u001b[0m\u001b[1;33m\u001b[0m\u001b[1;33m\u001b[0m\u001b[0m\n\u001b[0m\u001b[0;32m      3\u001b[0m \u001b[0mplt\u001b[0m\u001b[1;33m.\u001b[0m\u001b[0mplot\u001b[0m\u001b[1;33m(\u001b[0m\u001b[0mhistory\u001b[0m\u001b[1;33m.\u001b[0m\u001b[0mhistory\u001b[0m\u001b[1;33m[\u001b[0m\u001b[1;34m'val_accuracy'\u001b[0m\u001b[1;33m]\u001b[0m\u001b[1;33m)\u001b[0m\u001b[1;33m\u001b[0m\u001b[1;33m\u001b[0m\u001b[0m\n\u001b[0;32m      4\u001b[0m \u001b[0mplt\u001b[0m\u001b[1;33m.\u001b[0m\u001b[0mtitle\u001b[0m\u001b[1;33m(\u001b[0m\u001b[1;34m'model_accuracy'\u001b[0m\u001b[1;33m)\u001b[0m\u001b[1;33m\u001b[0m\u001b[1;33m\u001b[0m\u001b[0m\n\u001b[0;32m      5\u001b[0m \u001b[0mplt\u001b[0m\u001b[1;33m.\u001b[0m\u001b[0mylabel\u001b[0m\u001b[1;33m(\u001b[0m\u001b[1;34m'accuracy'\u001b[0m\u001b[1;33m)\u001b[0m\u001b[1;33m\u001b[0m\u001b[1;33m\u001b[0m\u001b[0m\n",
      "\u001b[1;31mNameError\u001b[0m: name 'history' is not defined"
     ]
    },
    {
     "data": {
      "text/plain": [
       "<Figure size 1296x720 with 0 Axes>"
      ]
     },
     "metadata": {},
     "output_type": "display_data"
    }
   ],
   "source": [
    "plt.figure(figsize=(18, 10))\n",
    "plt.plot(history.history['accuracy'])\n",
    "plt.plot(history.history['val_accuracy'])\n",
    "plt.title('model_accuracy')\n",
    "plt.ylabel('accuracy')\n",
    "plt.xlabel('epoch')\n",
    "plt.legend(['train', 'test'], loc='best')\n",
    "plt.show()"
   ]
  },
  {
   "cell_type": "code",
   "execution_count": null,
   "id": "4836c6b0",
   "metadata": {},
   "outputs": [],
   "source": [
    "plt.figure(figsize=(18, 10))\n",
    "plt.plot(history.history['loss'])\n",
    "plt.plot(history.history['val_loss'])\n",
    "plt.title('model loss')\n",
    "plt.ylabel('loss')\n",
    "plt.xlabel('epoch')\n",
    "plt.legend(['train', 'test'], loc='best')\n",
    "plt.show()"
   ]
  },
  {
   "cell_type": "code",
   "execution_count": null,
   "id": "7327b44e",
   "metadata": {},
   "outputs": [],
   "source": [
    "loss = history.history['loss']\n",
    "accuracy = history.history['accuracy']\n",
    "\n",
    "fig, axs = plt.subplots(nrows=1,ncols=2,figsize=(10,4))\n",
    "axs[0].plot(range(len(loss)), loss)\n",
    "axs[0].set(xlabel=\"Epochs\", ylabel=\"Loss\", title=\"Training loss\")\n",
    "axs[1].plot(range(len(accuracy)), accuracy)\n",
    "axs[1].set(xlabel=\"Epochs\", ylabel=\"Accuracy\", title=\"Training accuracy\")\n",
    "plt.show()"
   ]
  },
  {
   "cell_type": "code",
   "execution_count": null,
   "id": "b5a85a1b",
   "metadata": {},
   "outputs": [],
   "source": [
    "loss_train_score, accuracy_train_score  = model.evaluate(X_train, y_train, verbose=0)\n",
    "print(loss_train_score, accuracy_train_score)"
   ]
  },
  {
   "cell_type": "code",
   "execution_count": null,
   "id": "72ef2fa1",
   "metadata": {},
   "outputs": [],
   "source": [
    "loss_test_score, accuracy_test_score  = model.evaluate(X_test, y_test, verbose=0)\n",
    "print(loss_test_score, accuracy_test_score)"
   ]
  },
  {
   "cell_type": "code",
   "execution_count": 14,
   "id": "5dd7aa52",
   "metadata": {},
   "outputs": [
    {
     "name": "stdout",
     "output_type": "stream",
     "text": [
      "<class 'numpy.ndarray'>\n"
     ]
    },
    {
     "data": {
      "text/plain": [
       "array([[8.3489268e-04, 3.0407978e-03, 2.2953717e-01, ..., 2.1623498e-01,\n",
       "        3.7369702e-02, 1.8412474e-04],\n",
       "       [4.4835485e-03, 2.8658953e-02, 2.9410365e-01, ..., 1.9396870e-01,\n",
       "        4.1318983e-02, 1.1275117e-03],\n",
       "       [1.4211590e-03, 6.0085002e-03, 1.9486630e-01, ..., 2.6634839e-01,\n",
       "        4.7082145e-02, 3.8426867e-04],\n",
       "       ...,\n",
       "       [2.4441248e-03, 1.1662520e-02, 2.0401172e-01, ..., 2.6158607e-01,\n",
       "        4.8005071e-02, 6.3637190e-04],\n",
       "       [4.0827389e-03, 2.5258033e-02, 3.0795234e-01, ..., 1.8096116e-01,\n",
       "        3.7854381e-02, 9.2984614e-04],\n",
       "       [1.4487931e-03, 4.5762034e-03, 1.4182034e-01, ..., 2.7127174e-01,\n",
       "        3.3717621e-02, 1.8151230e-04]], dtype=float32)"
      ]
     },
     "execution_count": 14,
     "metadata": {},
     "output_type": "execute_result"
    }
   ],
   "source": [
    "predictions = model.predict(X_test)\n",
    "print(type(predictions))\n",
    "predictions"
   ]
  },
  {
   "cell_type": "code",
   "execution_count": 15,
   "id": "4cef26be",
   "metadata": {},
   "outputs": [
    {
     "name": "stdout",
     "output_type": "stream",
     "text": [
      "<class 'pandas.core.frame.DataFrame'>\n"
     ]
    }
   ],
   "source": [
    "print(type(y_test))"
   ]
  },
  {
   "cell_type": "code",
   "execution_count": 16,
   "id": "546eca07",
   "metadata": {},
   "outputs": [],
   "source": [
    "y_test_cm = y_test.to_numpy()"
   ]
  },
  {
   "cell_type": "code",
   "execution_count": 18,
   "id": "fa6508bd",
   "metadata": {},
   "outputs": [
    {
     "name": "stdout",
     "output_type": "stream",
     "text": [
      "(1950, 7)\n",
      "(1950, 7)\n"
     ]
    }
   ],
   "source": [
    "print(y_test_cm.shape)\n",
    "print(predictions.shape)"
   ]
  },
  {
   "cell_type": "code",
   "execution_count": 19,
   "id": "10801b3d",
   "metadata": {},
   "outputs": [
    {
     "data": {
      "text/plain": [
       "array([[  0,   0,   3,   6,   0,   0,   0],\n",
       "       [  0,   0,  24,  28,   5,   0,   0],\n",
       "       [  0,   0, 228, 403,   4,   0,   0],\n",
       "       [  0,   0, 124, 724,  24,   0,   0],\n",
       "       [  0,   0,  16, 274,  26,   0,   0],\n",
       "       [  0,   0,   0,  54,   5,   0,   0],\n",
       "       [  0,   0,   0,   2,   0,   0,   0]], dtype=int64)"
      ]
     },
     "execution_count": 19,
     "metadata": {},
     "output_type": "execute_result"
    }
   ],
   "source": [
    "confusion_matrix(y_test_cm.argmax(axis=1), predictions.argmax(axis=1))"
   ]
  },
  {
   "cell_type": "code",
   "execution_count": 22,
   "id": "324796c4",
   "metadata": {},
   "outputs": [],
   "source": [
    "conf_matrix = tf.math.confusion_matrix(labels=y_test_cm.argmax(axis=1),\n",
    "                                       predictions=predictions.argmax(axis=1))"
   ]
  },
  {
   "cell_type": "code",
   "execution_count": 23,
   "id": "ae2adb79",
   "metadata": {},
   "outputs": [
    {
     "data": {
      "text/plain": [
       "<tf.Tensor: shape=(7, 7), dtype=int32, numpy=\n",
       "array([[  0,   0,   3,   6,   0,   0,   0],\n",
       "       [  0,   0,  24,  28,   5,   0,   0],\n",
       "       [  0,   0, 228, 403,   4,   0,   0],\n",
       "       [  0,   0, 124, 724,  24,   0,   0],\n",
       "       [  0,   0,  16, 274,  26,   0,   0],\n",
       "       [  0,   0,   0,  54,   5,   0,   0],\n",
       "       [  0,   0,   0,   2,   0,   0,   0]])>"
      ]
     },
     "execution_count": 23,
     "metadata": {},
     "output_type": "execute_result"
    }
   ],
   "source": [
    "conf_matrix"
   ]
  },
  {
   "cell_type": "code",
   "execution_count": 25,
   "id": "0de71356",
   "metadata": {},
   "outputs": [
    {
     "ename": "ValueError",
     "evalue": "plot_confusion_matrix only supports classifiers",
     "output_type": "error",
     "traceback": [
      "\u001b[1;31m---------------------------------------------------------------------------\u001b[0m",
      "\u001b[1;31mValueError\u001b[0m                                Traceback (most recent call last)",
      "\u001b[1;32m~\\AppData\\Local\\Temp/ipykernel_6848/2575222516.py\u001b[0m in \u001b[0;36m<module>\u001b[1;34m\u001b[0m\n\u001b[1;32m----> 1\u001b[1;33m \u001b[0mplot_confusion_matrix\u001b[0m\u001b[1;33m(\u001b[0m\u001b[0mmodel\u001b[0m\u001b[1;33m,\u001b[0m \u001b[0mX_test\u001b[0m\u001b[1;33m,\u001b[0m \u001b[0my_test\u001b[0m\u001b[1;33m)\u001b[0m\u001b[1;33m\u001b[0m\u001b[1;33m\u001b[0m\u001b[0m\n\u001b[0m",
      "\u001b[1;32m~\\anaconda3\\envs\\tf_2_wine\\lib\\site-packages\\sklearn\\utils\\validation.py\u001b[0m in \u001b[0;36minner_f\u001b[1;34m(*args, **kwargs)\u001b[0m\n\u001b[0;32m     61\u001b[0m             \u001b[0mextra_args\u001b[0m \u001b[1;33m=\u001b[0m \u001b[0mlen\u001b[0m\u001b[1;33m(\u001b[0m\u001b[0margs\u001b[0m\u001b[1;33m)\u001b[0m \u001b[1;33m-\u001b[0m \u001b[0mlen\u001b[0m\u001b[1;33m(\u001b[0m\u001b[0mall_args\u001b[0m\u001b[1;33m)\u001b[0m\u001b[1;33m\u001b[0m\u001b[1;33m\u001b[0m\u001b[0m\n\u001b[0;32m     62\u001b[0m             \u001b[1;32mif\u001b[0m \u001b[0mextra_args\u001b[0m \u001b[1;33m<=\u001b[0m \u001b[1;36m0\u001b[0m\u001b[1;33m:\u001b[0m\u001b[1;33m\u001b[0m\u001b[1;33m\u001b[0m\u001b[0m\n\u001b[1;32m---> 63\u001b[1;33m                 \u001b[1;32mreturn\u001b[0m \u001b[0mf\u001b[0m\u001b[1;33m(\u001b[0m\u001b[1;33m*\u001b[0m\u001b[0margs\u001b[0m\u001b[1;33m,\u001b[0m \u001b[1;33m**\u001b[0m\u001b[0mkwargs\u001b[0m\u001b[1;33m)\u001b[0m\u001b[1;33m\u001b[0m\u001b[1;33m\u001b[0m\u001b[0m\n\u001b[0m\u001b[0;32m     64\u001b[0m \u001b[1;33m\u001b[0m\u001b[0m\n\u001b[0;32m     65\u001b[0m             \u001b[1;31m# extra_args > 0\u001b[0m\u001b[1;33m\u001b[0m\u001b[1;33m\u001b[0m\u001b[1;33m\u001b[0m\u001b[0m\n",
      "\u001b[1;32m~\\anaconda3\\envs\\tf_2_wine\\lib\\site-packages\\sklearn\\metrics\\_plot\\confusion_matrix.py\u001b[0m in \u001b[0;36mplot_confusion_matrix\u001b[1;34m(estimator, X, y_true, labels, sample_weight, normalize, display_labels, include_values, xticks_rotation, values_format, cmap, ax, colorbar)\u001b[0m\n\u001b[0;32m    259\u001b[0m \u001b[1;33m\u001b[0m\u001b[0m\n\u001b[0;32m    260\u001b[0m     \u001b[1;32mif\u001b[0m \u001b[1;32mnot\u001b[0m \u001b[0mis_classifier\u001b[0m\u001b[1;33m(\u001b[0m\u001b[0mestimator\u001b[0m\u001b[1;33m)\u001b[0m\u001b[1;33m:\u001b[0m\u001b[1;33m\u001b[0m\u001b[1;33m\u001b[0m\u001b[0m\n\u001b[1;32m--> 261\u001b[1;33m         \u001b[1;32mraise\u001b[0m \u001b[0mValueError\u001b[0m\u001b[1;33m(\u001b[0m\u001b[1;34m\"plot_confusion_matrix only supports classifiers\"\u001b[0m\u001b[1;33m)\u001b[0m\u001b[1;33m\u001b[0m\u001b[1;33m\u001b[0m\u001b[0m\n\u001b[0m\u001b[0;32m    262\u001b[0m \u001b[1;33m\u001b[0m\u001b[0m\n\u001b[0;32m    263\u001b[0m     \u001b[0my_pred\u001b[0m \u001b[1;33m=\u001b[0m \u001b[0mestimator\u001b[0m\u001b[1;33m.\u001b[0m\u001b[0mpredict\u001b[0m\u001b[1;33m(\u001b[0m\u001b[0mX\u001b[0m\u001b[1;33m)\u001b[0m\u001b[1;33m\u001b[0m\u001b[1;33m\u001b[0m\u001b[0m\n",
      "\u001b[1;31mValueError\u001b[0m: plot_confusion_matrix only supports classifiers"
     ]
    }
   ],
   "source": [
    "plot_confusion_matrix(model, X_test, y_test)"
   ]
  },
  {
   "cell_type": "code",
   "execution_count": 37,
   "id": "1cd572e0",
   "metadata": {},
   "outputs": [],
   "source": [
    "labels = ['3',\"4\",\"5\",\"6\",\"7\",\"8\",\"9\"]"
   ]
  },
  {
   "cell_type": "code",
   "execution_count": 36,
   "id": "f60d8674",
   "metadata": {},
   "outputs": [
    {
     "ename": "AttributeError",
     "evalue": "'tensorflow.python.framework.ops.EagerTensor' object has no attribute 'max'",
     "output_type": "error",
     "traceback": [
      "\u001b[1;31m---------------------------------------------------------------------------\u001b[0m",
      "\u001b[1;31mAttributeError\u001b[0m                            Traceback (most recent call last)",
      "\u001b[1;32m~\\AppData\\Local\\Temp/ipykernel_6848/3618372667.py\u001b[0m in \u001b[0;36m<module>\u001b[1;34m\u001b[0m\n\u001b[0;32m      2\u001b[0m \u001b[0mdisp\u001b[0m \u001b[1;33m=\u001b[0m \u001b[0mConfusionMatrixDisplay\u001b[0m\u001b[1;33m(\u001b[0m\u001b[0mconfusion_matrix\u001b[0m\u001b[1;33m=\u001b[0m\u001b[0mconf_matrix\u001b[0m\u001b[1;33m,\u001b[0m \u001b[0mdisplay_labels\u001b[0m\u001b[1;33m=\u001b[0m\u001b[0mlabels\u001b[0m\u001b[1;33m)\u001b[0m\u001b[1;33m\u001b[0m\u001b[1;33m\u001b[0m\u001b[0m\n\u001b[0;32m      3\u001b[0m \u001b[1;33m\u001b[0m\u001b[0m\n\u001b[1;32m----> 4\u001b[1;33m \u001b[0mdisp\u001b[0m\u001b[1;33m.\u001b[0m\u001b[0mplot\u001b[0m\u001b[1;33m(\u001b[0m\u001b[0mcmap\u001b[0m\u001b[1;33m=\u001b[0m\u001b[0mplt\u001b[0m\u001b[1;33m.\u001b[0m\u001b[0mcm\u001b[0m\u001b[1;33m.\u001b[0m\u001b[0mBlues\u001b[0m\u001b[1;33m)\u001b[0m\u001b[1;33m\u001b[0m\u001b[1;33m\u001b[0m\u001b[0m\n\u001b[0m\u001b[0;32m      5\u001b[0m \u001b[0mplt\u001b[0m\u001b[1;33m.\u001b[0m\u001b[0mshow\u001b[0m\u001b[1;33m(\u001b[0m\u001b[1;33m)\u001b[0m\u001b[1;33m\u001b[0m\u001b[1;33m\u001b[0m\u001b[0m\n",
      "\u001b[1;32m~\\anaconda3\\envs\\tf_2_wine\\lib\\site-packages\\sklearn\\utils\\validation.py\u001b[0m in \u001b[0;36minner_f\u001b[1;34m(*args, **kwargs)\u001b[0m\n\u001b[0;32m     61\u001b[0m             \u001b[0mextra_args\u001b[0m \u001b[1;33m=\u001b[0m \u001b[0mlen\u001b[0m\u001b[1;33m(\u001b[0m\u001b[0margs\u001b[0m\u001b[1;33m)\u001b[0m \u001b[1;33m-\u001b[0m \u001b[0mlen\u001b[0m\u001b[1;33m(\u001b[0m\u001b[0mall_args\u001b[0m\u001b[1;33m)\u001b[0m\u001b[1;33m\u001b[0m\u001b[1;33m\u001b[0m\u001b[0m\n\u001b[0;32m     62\u001b[0m             \u001b[1;32mif\u001b[0m \u001b[0mextra_args\u001b[0m \u001b[1;33m<=\u001b[0m \u001b[1;36m0\u001b[0m\u001b[1;33m:\u001b[0m\u001b[1;33m\u001b[0m\u001b[1;33m\u001b[0m\u001b[0m\n\u001b[1;32m---> 63\u001b[1;33m                 \u001b[1;32mreturn\u001b[0m \u001b[0mf\u001b[0m\u001b[1;33m(\u001b[0m\u001b[1;33m*\u001b[0m\u001b[0margs\u001b[0m\u001b[1;33m,\u001b[0m \u001b[1;33m**\u001b[0m\u001b[0mkwargs\u001b[0m\u001b[1;33m)\u001b[0m\u001b[1;33m\u001b[0m\u001b[1;33m\u001b[0m\u001b[0m\n\u001b[0m\u001b[0;32m     64\u001b[0m \u001b[1;33m\u001b[0m\u001b[0m\n\u001b[0;32m     65\u001b[0m             \u001b[1;31m# extra_args > 0\u001b[0m\u001b[1;33m\u001b[0m\u001b[1;33m\u001b[0m\u001b[1;33m\u001b[0m\u001b[0m\n",
      "\u001b[1;32m~\\anaconda3\\envs\\tf_2_wine\\lib\\site-packages\\sklearn\\metrics\\_plot\\confusion_matrix.py\u001b[0m in \u001b[0;36mplot\u001b[1;34m(self, include_values, cmap, xticks_rotation, values_format, ax, colorbar)\u001b[0m\n\u001b[0;32m    126\u001b[0m \u001b[1;33m\u001b[0m\u001b[0m\n\u001b[0;32m    127\u001b[0m             \u001b[1;31m# print text with appropriate color depending on background\u001b[0m\u001b[1;33m\u001b[0m\u001b[1;33m\u001b[0m\u001b[1;33m\u001b[0m\u001b[0m\n\u001b[1;32m--> 128\u001b[1;33m             \u001b[0mthresh\u001b[0m \u001b[1;33m=\u001b[0m \u001b[1;33m(\u001b[0m\u001b[0mcm\u001b[0m\u001b[1;33m.\u001b[0m\u001b[0mmax\u001b[0m\u001b[1;33m(\u001b[0m\u001b[1;33m)\u001b[0m \u001b[1;33m+\u001b[0m \u001b[0mcm\u001b[0m\u001b[1;33m.\u001b[0m\u001b[0mmin\u001b[0m\u001b[1;33m(\u001b[0m\u001b[1;33m)\u001b[0m\u001b[1;33m)\u001b[0m \u001b[1;33m/\u001b[0m \u001b[1;36m2.0\u001b[0m\u001b[1;33m\u001b[0m\u001b[1;33m\u001b[0m\u001b[0m\n\u001b[0m\u001b[0;32m    129\u001b[0m \u001b[1;33m\u001b[0m\u001b[0m\n\u001b[0;32m    130\u001b[0m             \u001b[1;32mfor\u001b[0m \u001b[0mi\u001b[0m\u001b[1;33m,\u001b[0m \u001b[0mj\u001b[0m \u001b[1;32min\u001b[0m \u001b[0mproduct\u001b[0m\u001b[1;33m(\u001b[0m\u001b[0mrange\u001b[0m\u001b[1;33m(\u001b[0m\u001b[0mn_classes\u001b[0m\u001b[1;33m)\u001b[0m\u001b[1;33m,\u001b[0m \u001b[0mrange\u001b[0m\u001b[1;33m(\u001b[0m\u001b[0mn_classes\u001b[0m\u001b[1;33m)\u001b[0m\u001b[1;33m)\u001b[0m\u001b[1;33m:\u001b[0m\u001b[1;33m\u001b[0m\u001b[1;33m\u001b[0m\u001b[0m\n",
      "\u001b[1;31mAttributeError\u001b[0m: 'tensorflow.python.framework.ops.EagerTensor' object has no attribute 'max'"
     ]
    },
    {
     "data": {
      "image/png": "[encoded data removed]",
      "text/plain": [
       "<Figure size 432x288 with 1 Axes>"
      ]
     },
     "metadata": {
      "needs_background": "light"
     },
     "output_type": "display_data"
    }
   ],
   "source": [
    "\n",
    "disp = ConfusionMatrixDisplay(confusion_matrix=conf_matrix, display_labels=labels)\n",
    "\n",
    "disp.plot(cmap=plt.cm.Blues)\n",
    "plt.show()"
   ]
  },
  {
   "cell_type": "code",
   "execution_count": 38,
   "id": "1a3f09de",
   "metadata": {},
   "outputs": [
    {
     "data": {
      "image/png": "[encoded data removed]",
      "text/plain": [
       "<Figure size 432x288 with 2 Axes>"
      ]
     },
     "metadata": {
      "needs_background": "light"
     },
     "output_type": "display_data"
    }
   ],
   "source": [
    "plt.imshow(conf_matrix, cmap=plt.cm.Blues)\n",
    "plt.xlabel(labels)\n",
    "plt.ylabel(\"True labels\")\n",
    "plt.xticks([], [])\n",
    "plt.yticks([], [])\n",
    "plt.title('Confusion matrix ')\n",
    "plt.colorbar()\n",
    "plt.show()"
   ]
  },
  {
   "cell_type": "code",
   "execution_count": null,
   "id": "f8cb6da7",
   "metadata": {},
   "outputs": [],
   "source": [
    "# # Accuracy calculated using Keras' method\n",
    "# metric = tf.keras.metrics.Accuracy()\n",
    "# metric.update_state(yTrue,yPred)\n",
    "# metric.result().numpy("
   ]
  },
  {
   "cell_type": "code",
   "execution_count": null,
   "id": "9272a257",
   "metadata": {},
   "outputs": [],
   "source": [
    "# model = Sequential()\n",
    "# model.add(Flatten())\n",
    "# model.add(Dense(units=class_num,activation='softmax'))\n",
    "# model.compile(loss='categorical_crossentropy', optimizer='adam',               \n",
    "#               metrics=['accuracy'])\n",
    "# history = model.fit(X_train, y_train, validation_data=(X_test, y_test), epochs=800, shuffle=False, verbose=0)\n",
    "# print(history)\n",
    "# loss_train_score, accuracy_train_score  = model.evaluate(X_train, y_train, verbose=0)\n",
    "# print(loss_train_score, accuracy_train_score)\n",
    "# loss_test_score, accuracy_test_score  = model.evaluate(X_test, y_test, verbose=0)\n",
    "# print(loss_test_score, accuracy_test_score)"
   ]
  },
  {
   "cell_type": "code",
   "execution_count": null,
   "id": "d77b48ef",
   "metadata": {},
   "outputs": [],
   "source": []
  }
 ],
 "metadata": {
  "kernelspec": {
   "display_name": "tf_2_wine",
   "language": "python",
   "name": "tf_2_wine"
  },
  "language_info": {
   "codemirror_mode": {
    "name": "ipython",
    "version": 3
   },
   "file_extension": ".py",
   "mimetype": "text/x-python",
   "name": "python",
   "nbconvert_exporter": "python",
   "pygments_lexer": "ipython3",
   "version": "3.7.11"
  }
 },
 "nbformat": 4,
 "nbformat_minor": 5
}
